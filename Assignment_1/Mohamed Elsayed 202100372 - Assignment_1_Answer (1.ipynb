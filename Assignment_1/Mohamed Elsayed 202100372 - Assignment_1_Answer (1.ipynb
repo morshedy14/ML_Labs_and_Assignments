{
 "cells": [
  {
   "cell_type": "markdown",
   "metadata": {
    "id": "cwYfkE9xtxZK"
   },
   "source": [
    "Type this equation\n",
    "and Give it a name called \" Equation \"\n",
    "\n",
    "\n",
    "![alt text](https://latex.codecogs.com/gif.latex?%5Cfrac%7BX%5E%7B3%7D&plus;2X-0.5x%5E%7B-3%7D%7D%7BX%5E%7B2%7D&plus;2*10%5E%7B-5%7D%7D)\n",
    "\n",
    "After Typing this pass a value 10 for X and Show the Result of this \" Equation \"\n",
    "\n",
    "**Note** :\n",
    "You might get an Error while typing the Equation !  Pass it!"
   ]
  },
  {
   "cell_type": "code",
   "execution_count": 1,
   "metadata": {
    "id": "KDgCgKUHGuMT"
   },
   "outputs": [
    {
     "data": {
      "text/plain": [
       "10.199992960001408"
      ]
     },
     "execution_count": 1,
     "metadata": {},
     "output_type": "execute_result"
    }
   ],
   "source": [
    "#Type your Code here\n",
    "# Define the equation function\n",
    "def equation(X):\n",
    "    numerator = X**3 + 2*X - 0.5*X**(-3)\n",
    "    denominator = X**2 + 2*10**(-5)\n",
    "    result = numerator / denominator\n",
    "    return result\n",
    "\n",
    "\n",
    "#Equation is function of x\n",
    "x= 10\n",
    "Equation = equation(x)\n",
    "Equation\n",
    "#Correct The Error\n",
    "#Answer Should be 10.1999"
   ]
  },
  {
   "cell_type": "markdown",
   "metadata": {
    "id": "Qtw4pE1EG2RY"
   },
   "source": [
    "Great! You should now understand the basics of variable assignment and reassignment in Python.\n"
   ]
  },
  {
   "cell_type": "markdown",
   "metadata": {
    "id": "WrdJ8hrqG7ji"
   },
   "source": [
    "# Fix This Error On your Own"
   ]
  },
  {
   "cell_type": "code",
   "execution_count": 8,
   "metadata": {
    "id": "c8aIXBp9feAS"
   },
   "outputs": [
    {
     "data": {
      "text/plain": [
       "50"
      ]
     },
     "execution_count": 8,
     "metadata": {},
     "output_type": "execute_result"
    }
   ],
   "source": [
    "x= 50\n",
    "y= 95\n",
    "c=x # fix\n",
    "z=y-c # fix\n",
    "z += 5 # fix\n",
    "z #Should Return 50"
   ]
  },
  {
   "cell_type": "markdown",
   "metadata": {
    "id": "XEI2vP2SIHfB"
   },
   "source": [
    "# 1. Numpy Scenario: **Population Statistics Analysis**\n",
    "\n",
    "   Imagine you're a data analyst analyzing population statistics for different cities. Use NumPy to perform various calculations and manipulations on population data.\n",
    "\n",
    "   a. Create a NumPy array representing the population of five cities: [1000000, 1200000, 800000, 1500000, 1100000].\n",
    "\n",
    "   b. Calculate the mean, median, and standard deviation of the population data.\n",
    "\n",
    "   c. Determine the index of the city with the highest population.\n",
    "\n",
    "   d. Increase the population of each city by 10%.\n"
   ]
  },
  {
   "cell_type": "code",
   "execution_count": 10,
   "metadata": {
    "id": "6v6OkrSrIObA"
   },
   "outputs": [
    {
     "name": "stdout",
     "output_type": "stream",
     "text": [
      "Population array: [1000000 1200000  800000 1500000 1100000]\n",
      "Mean population: 1120000.0\n",
      "Median population: 1100000.0\n",
      "Standard Deviation: 231516.7380558045\n",
      "City with the highest population is at index: 3\n",
      "Updated population data after a 10% increase:\n",
      "[1000000 1200000  800000 1500000 1100000]\n"
     ]
    }
   ],
   "source": [
    "### Sol of Scenario 1: Population Statistics Analysis\n",
    "\n",
    "#a. **Create a NumPy array representing the population of five cities:**\n",
    "\n",
    "\n",
    "import numpy as np\n",
    "\n",
    "population = np.array([1000000, 1200000, 800000, 1500000, 1100000])\n",
    "print(\"Population array:\", population)\n",
    "\n",
    "## continue here..\n",
    "\n",
    "mean_population = np.mean(population)\n",
    "median_population = np.median(population)\n",
    "std_deviation = np.std(population)\n",
    "\n",
    "print(\"Mean population:\", mean_population)\n",
    "print(\"Median population:\", median_population)\n",
    "print(\"Standard Deviation:\", std_deviation)\n",
    "\n",
    "# Determine the index of the city with the highest population\n",
    "highest_population_index = np.argmax(population)\n",
    "print(\"City with the highest population is at index:\", highest_population_index)\n",
    "\n",
    "# Increase the population of each city by 10%\n",
    "population_data = population * 1.10\n",
    "\n",
    "# Print the updated population data\n",
    "print(\"Updated population data after a 10% increase:\")\n",
    "print(population)\n"
   ]
  },
  {
   "cell_type": "code",
   "execution_count": null,
   "metadata": {
    "id": "VjBI_1vvIPNa"
   },
   "outputs": [],
   "source": []
  },
  {
   "cell_type": "markdown",
   "metadata": {
    "id": "yxj_93ZcIQ7b"
   },
   "source": [
    "# 2.Numpy Scenario: **Financial Analysis**\n",
    "\n",
    "   Assume you're working on financial data to analyze daily stock prices. Utilize NumPy to perform array operations and analysis.\n",
    "\n",
    "   a. Create two NumPy arrays representing daily stock prices for a week for two different companies. You can use random data or invent your own.\n",
    "\n",
    "   b. Calculate the daily returns for each company.\n",
    "\n",
    "   c. Determine the days when the stock price of the first company was higher than the second company.\n",
    "\n",
    "  \n"
   ]
  },
  {
   "cell_type": "code",
   "execution_count": 12,
   "metadata": {
    "id": "sdGO8lJkIRr6"
   },
   "outputs": [
    {
     "name": "stdout",
     "output_type": "stream",
     "text": [
      "Stock prices for Company 1: [178 199  64  96  66 175 174]\n",
      "Stock prices for Company 2: [131  50  57  82 135 150 110]\n",
      "Company 1 Daily Returns:\n",
      "[ 0.11797753 -0.67839196  0.5        -0.3125      1.65151515 -0.00571429]\n",
      "\n",
      "Company 2 Daily Returns:\n",
      "[-0.61832061  0.14        0.43859649  0.64634146  0.11111111 -0.26666667]\n",
      "\n",
      "Days when Company 1 had a higher stock price than Company 2:\n",
      "[0 1 2 3 5 6]\n"
     ]
    }
   ],
   "source": [
    "### Sol of Scenario 2: Financial Analysis\n",
    "\n",
    "#a. **Create two NumPy arrays representing daily stock prices for a week for two different companies:**\n",
    "\n",
    "\n",
    "import numpy as np\n",
    "\n",
    "# Random daily stock prices for two companies for a week\n",
    "company1_stock_prices = np.random.randint(50, 200, 7)  # Generate random data\n",
    "company2_stock_prices = np.random.randint(50, 200, 7)  # Generate random data\n",
    "\n",
    "print(\"Stock prices for Company 1:\", company1_stock_prices)\n",
    "print(\"Stock prices for Company 2:\", company2_stock_prices)\n",
    "\n",
    "\n",
    "## continue here..\n",
    "# Calculate the daily returns for each company\n",
    "company1_returns = (company1_stock_prices[1:] - company1_stock_prices[:-1]) / company1_stock_prices[:-1]\n",
    "company2_returns = (company2_stock_prices[1:] - company2_stock_prices[:-1]) / company2_stock_prices[:-1]\n",
    "\n",
    "# Determine the days when the stock price of the first company was higher than the second company\n",
    "higher_price_days = np.where(company1_stock_prices > company2_stock_prices)[0]\n",
    "\n",
    "print(\"Company 1 Daily Returns:\")\n",
    "print(company1_returns)\n",
    "\n",
    "print(\"\\nCompany 2 Daily Returns:\")\n",
    "print(company2_returns)\n",
    "\n",
    "print(\"\\nDays when Company 1 had a higher stock price than Company 2:\")\n",
    "print(higher_price_days)\n",
    "\n"
   ]
  },
  {
   "cell_type": "markdown",
   "metadata": {
    "id": "wtB7tk3rIT51"
   },
   "source": []
  },
  {
   "cell_type": "markdown",
   "metadata": {
    "id": "FX8oWYKYIad-"
   },
   "source": [
    "# Pandas Scenario 1: **Data Analysis on Employee Information**\n",
    "You have a dataset containing employee information. Let's create exercises based on this scenario.\n",
    "\n",
    "* **a.Load the Dataset:**\n",
    "Load the dataset named Employee_Salary_Dataset.csv into a Pandas DataFrame.\n",
    "<br>#dataset Ref :https://www.kaggle.com/datasets/anninasimon/employee-salary-dataset\n",
    "* **b.Display Basic Information:**\n",
    "Display the first 10 rows, last 10 rows and the basic information (data types, non-null counts) of the DataFrame.\n",
    "\n",
    "* **c.Calculate Statistics:**\n",
    "Calculate the mean, median, and standard deviation of the 'Salary' column.\n",
    "\n",
    "* **d.Filtering and Sorting:**\n",
    "Filter the employees earning more than $80,000 and sort them in descending order of salary.\n",
    "\n",
    "* **c.Grouping and Aggregation:**\n",
    "Group the data by 'Department' and calculate the average salary for each department."
   ]
  },
  {
   "cell_type": "code",
   "execution_count": 16,
   "metadata": {
    "id": "iqFfnaktIbER"
   },
   "outputs": [
    {
     "name": "stdout",
     "output_type": "stream",
     "text": [
      "First 10 rows:\n",
      "   ID  Experience_Years  Age  Gender   Salary\n",
      "0   1                 5   28  Female   250000\n",
      "1   2                 1   21    Male    50000\n",
      "2   3                 3   23  Female   170000\n",
      "3   4                 2   22    Male    25000\n",
      "4   5                 1   17    Male    10000\n",
      "5   6                25   62    Male  5001000\n",
      "6   7                19   54  Female   800000\n",
      "7   8                 2   21  Female     9000\n",
      "8   9                10   36  Female    61500\n",
      "9  10                15   54  Female   650000\n",
      "\n",
      "Last 10 rows:\n",
      "    ID  Experience_Years  Age  Gender    Salary\n",
      "25  26                 3   22  Female     20000\n",
      "26  27                 1   18    Male      3000\n",
      "27  28                27   62  Female  10000000\n",
      "28  29                19   54  Female   5000000\n",
      "29  30                 2   21  Female      6100\n",
      "30  31                10   34    Male     80000\n",
      "31  32                15   54    Male    900000\n",
      "32  33                20   55  Female   1540000\n",
      "33  34                19   53  Female   9300000\n",
      "34  35                16   49    Male   7600000\n",
      "\n",
      "Basic Information:\n",
      "<class 'pandas.core.frame.DataFrame'>\n",
      "RangeIndex: 35 entries, 0 to 34\n",
      "Data columns (total 5 columns):\n",
      " #   Column            Non-Null Count  Dtype \n",
      "---  ------            --------------  ----- \n",
      " 0   ID                35 non-null     int64 \n",
      " 1   Experience_Years  35 non-null     int64 \n",
      " 2   Age               35 non-null     int64 \n",
      " 3   Gender            35 non-null     object\n",
      " 4   Salary            35 non-null     int64 \n",
      "dtypes: int64(4), object(1)\n",
      "memory usage: 1.5+ KB\n",
      "\n",
      "Mean Salary: 2059147.142857143\n",
      "Median Salary: 250000.0\n",
      "Standard Deviation of Salary: 3170123.635901818\n",
      "\n",
      "Employees earning more than $80,000, sorted by salary:\n",
      "    ID  Experience_Years  Age  Gender    Salary\n",
      "27  28                27   62  Female  10000000\n",
      "33  34                19   53  Female   9300000\n",
      "17  18                15   54  Female   7900000\n",
      "34  35                16   49    Male   7600000\n",
      "22  23                 5   29    Male   6845000\n",
      "20  21                15   54    Male   6570000\n",
      "12  13                14   39    Male   6000050\n",
      "5    6                25   62    Male   5001000\n",
      "28  29                19   54  Female   5000000\n",
      "32  33                20   55  Female   1540000\n",
      "11  12                 6   29    Male   1400000\n",
      "16  17                10   34  Female    930000\n",
      "31  32                15   54    Male    900000\n",
      "6    7                19   54  Female    800000\n",
      "9   10                15   54  Female    650000\n",
      "19  20                10   36    Male    330000\n",
      "10  11                 4   26  Female    250000\n",
      "0    1                 5   28  Female    250000\n",
      "13  14                11   40    Male    220100\n",
      "2    3                 3   23  Female    170000\n",
      "15  16                 4   27  Female     87000\n",
      "\n",
      "Average Salary by Department:\n",
      "Gender\n",
      "Female    2.054917e+06\n",
      "Male      2.063626e+06\n",
      "Name: Salary, dtype: float64\n"
     ]
    }
   ],
   "source": [
    "### Sol of Scenario 1: Data Analysis on Employee Information\n",
    "import pandas as pd\n",
    "\n",
    "# Load the dataset into a Pandas DataFrame\n",
    "\n",
    "## continue here..\n",
    "# Load the dataset into a Pandas DataFrame\n",
    "\n",
    "file_path = r'C:\\Users\\morsh\\Downloads\\Employee_Salary_Dataset.csv'\n",
    "df = pd.read_csv(file_path)\n",
    "\n",
    "# a. Display the first 10 rows\n",
    "print(\"First 10 rows:\")\n",
    "print(df.head(10))\n",
    "\n",
    "# b. Display the last 10 rows\n",
    "print(\"\\nLast 10 rows:\")\n",
    "print(df.tail(10))\n",
    "\n",
    "# Display basic information\n",
    "print(\"\\nBasic Information:\")\n",
    "df.info()\n",
    "\n",
    "# c. Calculate mean, median, and standard deviation of the 'Salary' column\n",
    "mean_salary = df['Salary'].mean()\n",
    "median_salary = df['Salary'].median()\n",
    "std_dev_salary = df['Salary'].std()\n",
    "\n",
    "print(\"\\nMean Salary:\", mean_salary)\n",
    "print(\"Median Salary:\", median_salary)\n",
    "print(\"Standard Deviation of Salary:\", std_dev_salary)\n",
    "\n",
    "# d. Filter employees earning more than $80,000 and sort them in descending order of salary\n",
    "high_earning_employees = df[df['Salary'] > 80000]\n",
    "sorted_high_earning_employees = high_earning_employees.sort_values(by='Salary', ascending=False)\n",
    "\n",
    "print(\"\\nEmployees earning more than $80,000, sorted by salary:\")\n",
    "print(sorted_high_earning_employees)\n",
    "\n",
    "# e. Group the data by 'Department' and calculate the average salary for each department\n",
    "department_avg_salary = df.groupby('Gender')['Salary'].mean()\n",
    "\n",
    "print(\"\\nAverage Salary by Department:\")\n",
    "print(department_avg_salary)\n"
   ]
  },
  {
   "cell_type": "code",
   "execution_count": null,
   "metadata": {},
   "outputs": [],
   "source": []
  }
 ],
 "metadata": {
  "colab": {
   "provenance": []
  },
  "kernelspec": {
   "display_name": "Python 3 (ipykernel)",
   "language": "python",
   "name": "python3"
  },
  "language_info": {
   "codemirror_mode": {
    "name": "ipython",
    "version": 3
   },
   "file_extension": ".py",
   "mimetype": "text/x-python",
   "name": "python",
   "nbconvert_exporter": "python",
   "pygments_lexer": "ipython3",
   "version": "3.10.9"
  }
 },
 "nbformat": 4,
 "nbformat_minor": 1
}
