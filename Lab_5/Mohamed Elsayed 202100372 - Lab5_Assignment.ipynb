{
 "cells": [
  {
   "cell_type": "code",
   "execution_count": 64,
   "id": "d8911e80-0a0d-499d-8e45-8a48d0e6213c",
   "metadata": {},
   "outputs": [],
   "source": [
    "import numpy as np \n",
    "import pandas as pd\n",
    "import matplotlib.pyplot as plt\n",
    "\n",
    "%matplotlib inline\n",
    "\n",
    "from sklearn.preprocessing import LabelEncoder\n",
    "from sklearn.preprocessing import MinMaxScaler\n",
    "from sklearn.model_selection import train_test_split\n",
    "\n",
    "from sklearn.linear_model import LinearRegression\n",
    "from sklearn.svm import LinearSVC\n",
    "from sklearn.preprocessing import PolynomialFeatures\n",
    "from sklearn.metrics import mean_absolute_error,mean_squared_error,r2_score\n",
    "from sklearn.linear_model import Lasso\n",
    "from sklearn.linear_model import Ridge\n",
    "from sklearn.linear_model import SGDRegressor\n",
    "\n",
    "\n",
    "from sklearn.datasets import load_digits"
   ]
  },
  {
   "cell_type": "code",
   "execution_count": 3,
   "id": "5253d2bc-04b1-4d11-9de8-61e04e1d6582",
   "metadata": {},
   "outputs": [
    {
     "data": {
      "text/plain": [
       "<bound method DataFrame.info of        age     sex     bmi  children smoker     region      charges\n",
       "0     19.0  female  27.900         0    yes  southwest  16884.92400\n",
       "1     18.0    male  33.770         1     no  southeast   1725.55230\n",
       "2     28.0    male  33.000         3     no  southeast   4449.46200\n",
       "3     33.0    male  22.705         0     no  northwest  21984.47061\n",
       "4     32.0    male  28.880         0     no  northwest   3866.85520\n",
       "...    ...     ...     ...       ...    ...        ...          ...\n",
       "1333  50.0    male  30.970         3     no  northwest  10600.54830\n",
       "1334  18.0  female  31.920         0     no  northeast   2205.98080\n",
       "1335  18.0  female  36.850         0     no  southeast   1629.83350\n",
       "1336  21.0  female  25.800         0     no  southwest   2007.94500\n",
       "1337  61.0  female  29.070         0    yes  northwest  29141.36030\n",
       "\n",
       "[1338 rows x 7 columns]>"
      ]
     },
     "execution_count": 3,
     "metadata": {},
     "output_type": "execute_result"
    }
   ],
   "source": [
    "#load dataset\n",
    "df = pd.read_csv('Mohamed Elsayed 202100372 - insurance.csv')\n",
    "df.info"
   ]
  },
  {
   "cell_type": "code",
   "execution_count": 4,
   "id": "98253412-1ffc-4a54-ae82-4ee141d96331",
   "metadata": {},
   "outputs": [
    {
     "data": {
      "text/html": [
       "<div>\n",
       "<style scoped>\n",
       "    .dataframe tbody tr th:only-of-type {\n",
       "        vertical-align: middle;\n",
       "    }\n",
       "\n",
       "    .dataframe tbody tr th {\n",
       "        vertical-align: top;\n",
       "    }\n",
       "\n",
       "    .dataframe thead th {\n",
       "        text-align: right;\n",
       "    }\n",
       "</style>\n",
       "<table border=\"1\" class=\"dataframe\">\n",
       "  <thead>\n",
       "    <tr style=\"text-align: right;\">\n",
       "      <th></th>\n",
       "      <th>age</th>\n",
       "      <th>sex</th>\n",
       "      <th>bmi</th>\n",
       "      <th>children</th>\n",
       "      <th>smoker</th>\n",
       "      <th>region</th>\n",
       "      <th>charges</th>\n",
       "    </tr>\n",
       "  </thead>\n",
       "  <tbody>\n",
       "    <tr>\n",
       "      <th>0</th>\n",
       "      <td>19.0</td>\n",
       "      <td>female</td>\n",
       "      <td>27.900</td>\n",
       "      <td>0</td>\n",
       "      <td>yes</td>\n",
       "      <td>southwest</td>\n",
       "      <td>16884.92400</td>\n",
       "    </tr>\n",
       "    <tr>\n",
       "      <th>1</th>\n",
       "      <td>18.0</td>\n",
       "      <td>male</td>\n",
       "      <td>33.770</td>\n",
       "      <td>1</td>\n",
       "      <td>no</td>\n",
       "      <td>southeast</td>\n",
       "      <td>1725.55230</td>\n",
       "    </tr>\n",
       "    <tr>\n",
       "      <th>2</th>\n",
       "      <td>28.0</td>\n",
       "      <td>male</td>\n",
       "      <td>33.000</td>\n",
       "      <td>3</td>\n",
       "      <td>no</td>\n",
       "      <td>southeast</td>\n",
       "      <td>4449.46200</td>\n",
       "    </tr>\n",
       "    <tr>\n",
       "      <th>3</th>\n",
       "      <td>33.0</td>\n",
       "      <td>male</td>\n",
       "      <td>22.705</td>\n",
       "      <td>0</td>\n",
       "      <td>no</td>\n",
       "      <td>northwest</td>\n",
       "      <td>21984.47061</td>\n",
       "    </tr>\n",
       "    <tr>\n",
       "      <th>4</th>\n",
       "      <td>32.0</td>\n",
       "      <td>male</td>\n",
       "      <td>28.880</td>\n",
       "      <td>0</td>\n",
       "      <td>no</td>\n",
       "      <td>northwest</td>\n",
       "      <td>3866.85520</td>\n",
       "    </tr>\n",
       "  </tbody>\n",
       "</table>\n",
       "</div>"
      ],
      "text/plain": [
       "    age     sex     bmi  children smoker     region      charges\n",
       "0  19.0  female  27.900         0    yes  southwest  16884.92400\n",
       "1  18.0    male  33.770         1     no  southeast   1725.55230\n",
       "2  28.0    male  33.000         3     no  southeast   4449.46200\n",
       "3  33.0    male  22.705         0     no  northwest  21984.47061\n",
       "4  32.0    male  28.880         0     no  northwest   3866.85520"
      ]
     },
     "execution_count": 4,
     "metadata": {},
     "output_type": "execute_result"
    }
   ],
   "source": [
    "df.head()"
   ]
  },
  {
   "cell_type": "markdown",
   "id": "550bb763-be0e-41b7-9d2f-a095f6bccb70",
   "metadata": {},
   "source": [
    "###  Drop Null Values"
   ]
  },
  {
   "cell_type": "code",
   "execution_count": 5,
   "id": "f130aecf",
   "metadata": {},
   "outputs": [],
   "source": [
    "##Write your code here\n",
    "#droping null values\n",
    "df.dropna(inplace=True)"
   ]
  },
  {
   "cell_type": "code",
   "execution_count": 6,
   "id": "42ffe380-9330-42c1-93cc-4dfac7bbf270",
   "metadata": {},
   "outputs": [
    {
     "data": {
      "text/plain": [
       "Index(['age', 'sex', 'bmi', 'children', 'smoker', 'region', 'charges'], dtype='object')"
      ]
     },
     "execution_count": 6,
     "metadata": {},
     "output_type": "execute_result"
    }
   ],
   "source": [
    "df.columns"
   ]
  },
  {
   "cell_type": "code",
   "execution_count": 7,
   "id": "d6b9274b-1b66-4523-a3f4-9e561861bc09",
   "metadata": {},
   "outputs": [
    {
     "data": {
      "text/html": [
       "<div>\n",
       "<style scoped>\n",
       "    .dataframe tbody tr th:only-of-type {\n",
       "        vertical-align: middle;\n",
       "    }\n",
       "\n",
       "    .dataframe tbody tr th {\n",
       "        vertical-align: top;\n",
       "    }\n",
       "\n",
       "    .dataframe thead th {\n",
       "        text-align: right;\n",
       "    }\n",
       "</style>\n",
       "<table border=\"1\" class=\"dataframe\">\n",
       "  <thead>\n",
       "    <tr style=\"text-align: right;\">\n",
       "      <th></th>\n",
       "      <th>age</th>\n",
       "      <th>sex</th>\n",
       "      <th>bmi</th>\n",
       "      <th>children</th>\n",
       "      <th>smoker</th>\n",
       "      <th>region</th>\n",
       "      <th>charges</th>\n",
       "    </tr>\n",
       "  </thead>\n",
       "  <tbody>\n",
       "    <tr>\n",
       "      <th>0</th>\n",
       "      <td>19.0</td>\n",
       "      <td>female</td>\n",
       "      <td>27.900</td>\n",
       "      <td>0</td>\n",
       "      <td>yes</td>\n",
       "      <td>southwest</td>\n",
       "      <td>16884.92400</td>\n",
       "    </tr>\n",
       "    <tr>\n",
       "      <th>1</th>\n",
       "      <td>18.0</td>\n",
       "      <td>male</td>\n",
       "      <td>33.770</td>\n",
       "      <td>1</td>\n",
       "      <td>no</td>\n",
       "      <td>southeast</td>\n",
       "      <td>1725.55230</td>\n",
       "    </tr>\n",
       "    <tr>\n",
       "      <th>2</th>\n",
       "      <td>28.0</td>\n",
       "      <td>male</td>\n",
       "      <td>33.000</td>\n",
       "      <td>3</td>\n",
       "      <td>no</td>\n",
       "      <td>southeast</td>\n",
       "      <td>4449.46200</td>\n",
       "    </tr>\n",
       "    <tr>\n",
       "      <th>3</th>\n",
       "      <td>33.0</td>\n",
       "      <td>male</td>\n",
       "      <td>22.705</td>\n",
       "      <td>0</td>\n",
       "      <td>no</td>\n",
       "      <td>northwest</td>\n",
       "      <td>21984.47061</td>\n",
       "    </tr>\n",
       "    <tr>\n",
       "      <th>4</th>\n",
       "      <td>32.0</td>\n",
       "      <td>male</td>\n",
       "      <td>28.880</td>\n",
       "      <td>0</td>\n",
       "      <td>no</td>\n",
       "      <td>northwest</td>\n",
       "      <td>3866.85520</td>\n",
       "    </tr>\n",
       "  </tbody>\n",
       "</table>\n",
       "</div>"
      ],
      "text/plain": [
       "    age     sex     bmi  children smoker     region      charges\n",
       "0  19.0  female  27.900         0    yes  southwest  16884.92400\n",
       "1  18.0    male  33.770         1     no  southeast   1725.55230\n",
       "2  28.0    male  33.000         3     no  southeast   4449.46200\n",
       "3  33.0    male  22.705         0     no  northwest  21984.47061\n",
       "4  32.0    male  28.880         0     no  northwest   3866.85520"
      ]
     },
     "execution_count": 7,
     "metadata": {},
     "output_type": "execute_result"
    }
   ],
   "source": [
    "df.head()"
   ]
  },
  {
   "cell_type": "markdown",
   "id": "abe2ea26-a297-4dbc-8903-3fd6df7c0167",
   "metadata": {},
   "source": [
    "# Encode Data"
   ]
  },
  {
   "cell_type": "code",
   "execution_count": 8,
   "id": "c1e21802-d331-4bab-b331-f37e0bb77892",
   "metadata": {},
   "outputs": [],
   "source": [
    "lenc = LabelEncoder()"
   ]
  },
  {
   "cell_type": "code",
   "execution_count": 9,
   "id": "9719fc15-9fd5-47d8-b475-1836ee3df742",
   "metadata": {},
   "outputs": [
    {
     "data": {
      "text/plain": [
       "Index(['age', 'sex', 'bmi', 'children', 'smoker', 'region', 'charges'], dtype='object')"
      ]
     },
     "execution_count": 9,
     "metadata": {},
     "output_type": "execute_result"
    }
   ],
   "source": [
    "df.columns"
   ]
  },
  {
   "cell_type": "code",
   "execution_count": 10,
   "id": "23259ab3",
   "metadata": {},
   "outputs": [
    {
     "data": {
      "text/plain": [
       "0       female\n",
       "1         male\n",
       "2         male\n",
       "3         male\n",
       "4         male\n",
       "         ...  \n",
       "1333      male\n",
       "1334    female\n",
       "1335    female\n",
       "1336    female\n",
       "1337    female\n",
       "Name: sex, Length: 1331, dtype: object"
      ]
     },
     "execution_count": 10,
     "metadata": {},
     "output_type": "execute_result"
    }
   ],
   "source": [
    "df['sex'] "
   ]
  },
  {
   "cell_type": "code",
   "execution_count": 11,
   "id": "2bacc44c-4c0d-4aff-8213-faf248de966e",
   "metadata": {},
   "outputs": [
    {
     "data": {
      "text/plain": [
       "0       0\n",
       "1       1\n",
       "2       1\n",
       "3       1\n",
       "4       1\n",
       "       ..\n",
       "1333    1\n",
       "1334    0\n",
       "1335    0\n",
       "1336    0\n",
       "1337    0\n",
       "Name: sex, Length: 1331, dtype: int32"
      ]
     },
     "execution_count": 11,
     "metadata": {},
     "output_type": "execute_result"
    }
   ],
   "source": [
    "df['sex'] = lenc.fit_transform(df['sex'])\n",
    "df['sex']"
   ]
  },
  {
   "cell_type": "code",
   "execution_count": 12,
   "id": "7fa38675",
   "metadata": {},
   "outputs": [
    {
     "data": {
      "text/plain": [
       "0       1\n",
       "1       0\n",
       "2       0\n",
       "3       0\n",
       "4       0\n",
       "       ..\n",
       "1333    0\n",
       "1334    0\n",
       "1335    0\n",
       "1336    0\n",
       "1337    1\n",
       "Name: smoker, Length: 1331, dtype: int32"
      ]
     },
     "execution_count": 12,
     "metadata": {},
     "output_type": "execute_result"
    }
   ],
   "source": [
    "df['smoker'] = lenc.fit_transform(df['smoker'])\n",
    "df['smoker']"
   ]
  },
  {
   "cell_type": "code",
   "execution_count": 13,
   "id": "9dfdd5fc-dabd-454f-a24d-e6d7b86e2c2d",
   "metadata": {},
   "outputs": [
    {
     "data": {
      "text/html": [
       "<div>\n",
       "<style scoped>\n",
       "    .dataframe tbody tr th:only-of-type {\n",
       "        vertical-align: middle;\n",
       "    }\n",
       "\n",
       "    .dataframe tbody tr th {\n",
       "        vertical-align: top;\n",
       "    }\n",
       "\n",
       "    .dataframe thead th {\n",
       "        text-align: right;\n",
       "    }\n",
       "</style>\n",
       "<table border=\"1\" class=\"dataframe\">\n",
       "  <thead>\n",
       "    <tr style=\"text-align: right;\">\n",
       "      <th></th>\n",
       "      <th>age</th>\n",
       "      <th>sex</th>\n",
       "      <th>bmi</th>\n",
       "      <th>children</th>\n",
       "      <th>smoker</th>\n",
       "      <th>region</th>\n",
       "      <th>charges</th>\n",
       "    </tr>\n",
       "  </thead>\n",
       "  <tbody>\n",
       "    <tr>\n",
       "      <th>0</th>\n",
       "      <td>19.0</td>\n",
       "      <td>0</td>\n",
       "      <td>27.900</td>\n",
       "      <td>0</td>\n",
       "      <td>1</td>\n",
       "      <td>southwest</td>\n",
       "      <td>16884.92400</td>\n",
       "    </tr>\n",
       "    <tr>\n",
       "      <th>1</th>\n",
       "      <td>18.0</td>\n",
       "      <td>1</td>\n",
       "      <td>33.770</td>\n",
       "      <td>1</td>\n",
       "      <td>0</td>\n",
       "      <td>southeast</td>\n",
       "      <td>1725.55230</td>\n",
       "    </tr>\n",
       "    <tr>\n",
       "      <th>2</th>\n",
       "      <td>28.0</td>\n",
       "      <td>1</td>\n",
       "      <td>33.000</td>\n",
       "      <td>3</td>\n",
       "      <td>0</td>\n",
       "      <td>southeast</td>\n",
       "      <td>4449.46200</td>\n",
       "    </tr>\n",
       "    <tr>\n",
       "      <th>3</th>\n",
       "      <td>33.0</td>\n",
       "      <td>1</td>\n",
       "      <td>22.705</td>\n",
       "      <td>0</td>\n",
       "      <td>0</td>\n",
       "      <td>northwest</td>\n",
       "      <td>21984.47061</td>\n",
       "    </tr>\n",
       "    <tr>\n",
       "      <th>4</th>\n",
       "      <td>32.0</td>\n",
       "      <td>1</td>\n",
       "      <td>28.880</td>\n",
       "      <td>0</td>\n",
       "      <td>0</td>\n",
       "      <td>northwest</td>\n",
       "      <td>3866.85520</td>\n",
       "    </tr>\n",
       "  </tbody>\n",
       "</table>\n",
       "</div>"
      ],
      "text/plain": [
       "    age  sex     bmi  children  smoker     region      charges\n",
       "0  19.0    0  27.900         0       1  southwest  16884.92400\n",
       "1  18.0    1  33.770         1       0  southeast   1725.55230\n",
       "2  28.0    1  33.000         3       0  southeast   4449.46200\n",
       "3  33.0    1  22.705         0       0  northwest  21984.47061\n",
       "4  32.0    1  28.880         0       0  northwest   3866.85520"
      ]
     },
     "execution_count": 13,
     "metadata": {},
     "output_type": "execute_result"
    }
   ],
   "source": [
    "df.head()"
   ]
  },
  {
   "cell_type": "code",
   "execution_count": 14,
   "id": "31386dbc-5ff6-4f70-bfcd-58ca5021cd43",
   "metadata": {},
   "outputs": [],
   "source": [
    "df= pd.get_dummies(df,drop_first=True,dtype='i')"
   ]
  },
  {
   "cell_type": "code",
   "execution_count": 15,
   "id": "590355f1-b32a-4285-a8aa-10e77ab22724",
   "metadata": {},
   "outputs": [
    {
     "data": {
      "text/html": [
       "<div>\n",
       "<style scoped>\n",
       "    .dataframe tbody tr th:only-of-type {\n",
       "        vertical-align: middle;\n",
       "    }\n",
       "\n",
       "    .dataframe tbody tr th {\n",
       "        vertical-align: top;\n",
       "    }\n",
       "\n",
       "    .dataframe thead th {\n",
       "        text-align: right;\n",
       "    }\n",
       "</style>\n",
       "<table border=\"1\" class=\"dataframe\">\n",
       "  <thead>\n",
       "    <tr style=\"text-align: right;\">\n",
       "      <th></th>\n",
       "      <th>age</th>\n",
       "      <th>sex</th>\n",
       "      <th>bmi</th>\n",
       "      <th>children</th>\n",
       "      <th>smoker</th>\n",
       "      <th>charges</th>\n",
       "      <th>region_northwest</th>\n",
       "      <th>region_southeast</th>\n",
       "      <th>region_southwest</th>\n",
       "    </tr>\n",
       "  </thead>\n",
       "  <tbody>\n",
       "    <tr>\n",
       "      <th>0</th>\n",
       "      <td>19.0</td>\n",
       "      <td>0</td>\n",
       "      <td>27.900</td>\n",
       "      <td>0</td>\n",
       "      <td>1</td>\n",
       "      <td>16884.92400</td>\n",
       "      <td>0</td>\n",
       "      <td>0</td>\n",
       "      <td>1</td>\n",
       "    </tr>\n",
       "    <tr>\n",
       "      <th>1</th>\n",
       "      <td>18.0</td>\n",
       "      <td>1</td>\n",
       "      <td>33.770</td>\n",
       "      <td>1</td>\n",
       "      <td>0</td>\n",
       "      <td>1725.55230</td>\n",
       "      <td>0</td>\n",
       "      <td>1</td>\n",
       "      <td>0</td>\n",
       "    </tr>\n",
       "    <tr>\n",
       "      <th>2</th>\n",
       "      <td>28.0</td>\n",
       "      <td>1</td>\n",
       "      <td>33.000</td>\n",
       "      <td>3</td>\n",
       "      <td>0</td>\n",
       "      <td>4449.46200</td>\n",
       "      <td>0</td>\n",
       "      <td>1</td>\n",
       "      <td>0</td>\n",
       "    </tr>\n",
       "    <tr>\n",
       "      <th>3</th>\n",
       "      <td>33.0</td>\n",
       "      <td>1</td>\n",
       "      <td>22.705</td>\n",
       "      <td>0</td>\n",
       "      <td>0</td>\n",
       "      <td>21984.47061</td>\n",
       "      <td>1</td>\n",
       "      <td>0</td>\n",
       "      <td>0</td>\n",
       "    </tr>\n",
       "    <tr>\n",
       "      <th>4</th>\n",
       "      <td>32.0</td>\n",
       "      <td>1</td>\n",
       "      <td>28.880</td>\n",
       "      <td>0</td>\n",
       "      <td>0</td>\n",
       "      <td>3866.85520</td>\n",
       "      <td>1</td>\n",
       "      <td>0</td>\n",
       "      <td>0</td>\n",
       "    </tr>\n",
       "  </tbody>\n",
       "</table>\n",
       "</div>"
      ],
      "text/plain": [
       "    age  sex     bmi  children  smoker      charges  region_northwest  \\\n",
       "0  19.0    0  27.900         0       1  16884.92400                 0   \n",
       "1  18.0    1  33.770         1       0   1725.55230                 0   \n",
       "2  28.0    1  33.000         3       0   4449.46200                 0   \n",
       "3  33.0    1  22.705         0       0  21984.47061                 1   \n",
       "4  32.0    1  28.880         0       0   3866.85520                 1   \n",
       "\n",
       "   region_southeast  region_southwest  \n",
       "0                 0                 1  \n",
       "1                 1                 0  \n",
       "2                 1                 0  \n",
       "3                 0                 0  \n",
       "4                 0                 0  "
      ]
     },
     "execution_count": 15,
     "metadata": {},
     "output_type": "execute_result"
    }
   ],
   "source": [
    "df.head()"
   ]
  },
  {
   "cell_type": "markdown",
   "id": "841e9a02-265e-4aeb-b04a-cef86c46eefb",
   "metadata": {},
   "source": [
    "## Splitting Data 80% train , 20% test\n",
    "\n"
   ]
  },
  {
   "cell_type": "code",
   "execution_count": 16,
   "id": "97582602",
   "metadata": {},
   "outputs": [],
   "source": [
    "X = df.drop(\"charges\", axis=1)\n",
    "y = df[\"charges\"]"
   ]
  },
  {
   "cell_type": "code",
   "execution_count": 17,
   "metadata": {},
   "outputs": [],
   "source": [
    "X_train, X_test, y_train, y_test = train_test_split(X, y, test_size=0.2, random_state=42)"
   ]
  },
  {
   "cell_type": "markdown",
   "id": "d192a42d-8f69-4954-b812-ec21d07dd67d",
   "metadata": {},
   "source": [
    "## Scal Data using MinMaxScaler Scaler"
   ]
  },
  {
   "cell_type": "code",
   "execution_count": 18,
   "id": "94b87f01",
   "metadata": {},
   "outputs": [
    {
     "name": "stdout",
     "output_type": "stream",
     "text": [
      "(1064, 8)\n",
      "(267, 8)\n"
     ]
    }
   ],
   "source": [
    "print(X_train.shape)\n",
    "print(X_test.shape)"
   ]
  },
  {
   "cell_type": "code",
   "execution_count": 19,
   "metadata": {},
   "outputs": [
    {
     "data": {
      "text/html": [
       "<div>\n",
       "<style scoped>\n",
       "    .dataframe tbody tr th:only-of-type {\n",
       "        vertical-align: middle;\n",
       "    }\n",
       "\n",
       "    .dataframe tbody tr th {\n",
       "        vertical-align: top;\n",
       "    }\n",
       "\n",
       "    .dataframe thead th {\n",
       "        text-align: right;\n",
       "    }\n",
       "</style>\n",
       "<table border=\"1\" class=\"dataframe\">\n",
       "  <thead>\n",
       "    <tr style=\"text-align: right;\">\n",
       "      <th></th>\n",
       "      <th>age</th>\n",
       "      <th>sex</th>\n",
       "      <th>bmi</th>\n",
       "      <th>children</th>\n",
       "      <th>smoker</th>\n",
       "      <th>region_northwest</th>\n",
       "      <th>region_southeast</th>\n",
       "      <th>region_southwest</th>\n",
       "    </tr>\n",
       "  </thead>\n",
       "  <tbody>\n",
       "    <tr>\n",
       "      <th>591</th>\n",
       "      <td>47.0</td>\n",
       "      <td>1</td>\n",
       "      <td>19.570</td>\n",
       "      <td>1</td>\n",
       "      <td>0</td>\n",
       "      <td>1</td>\n",
       "      <td>0</td>\n",
       "      <td>0</td>\n",
       "    </tr>\n",
       "    <tr>\n",
       "      <th>970</th>\n",
       "      <td>50.0</td>\n",
       "      <td>0</td>\n",
       "      <td>28.160</td>\n",
       "      <td>3</td>\n",
       "      <td>0</td>\n",
       "      <td>0</td>\n",
       "      <td>1</td>\n",
       "      <td>0</td>\n",
       "    </tr>\n",
       "    <tr>\n",
       "      <th>1311</th>\n",
       "      <td>33.0</td>\n",
       "      <td>0</td>\n",
       "      <td>26.695</td>\n",
       "      <td>0</td>\n",
       "      <td>0</td>\n",
       "      <td>1</td>\n",
       "      <td>0</td>\n",
       "      <td>0</td>\n",
       "    </tr>\n",
       "    <tr>\n",
       "      <th>177</th>\n",
       "      <td>54.0</td>\n",
       "      <td>1</td>\n",
       "      <td>29.200</td>\n",
       "      <td>1</td>\n",
       "      <td>0</td>\n",
       "      <td>0</td>\n",
       "      <td>0</td>\n",
       "      <td>1</td>\n",
       "    </tr>\n",
       "    <tr>\n",
       "      <th>854</th>\n",
       "      <td>49.0</td>\n",
       "      <td>0</td>\n",
       "      <td>23.845</td>\n",
       "      <td>3</td>\n",
       "      <td>1</td>\n",
       "      <td>0</td>\n",
       "      <td>0</td>\n",
       "      <td>0</td>\n",
       "    </tr>\n",
       "    <tr>\n",
       "      <th>...</th>\n",
       "      <td>...</td>\n",
       "      <td>...</td>\n",
       "      <td>...</td>\n",
       "      <td>...</td>\n",
       "      <td>...</td>\n",
       "      <td>...</td>\n",
       "      <td>...</td>\n",
       "      <td>...</td>\n",
       "    </tr>\n",
       "    <tr>\n",
       "      <th>1102</th>\n",
       "      <td>29.0</td>\n",
       "      <td>1</td>\n",
       "      <td>38.940</td>\n",
       "      <td>1</td>\n",
       "      <td>0</td>\n",
       "      <td>0</td>\n",
       "      <td>1</td>\n",
       "      <td>0</td>\n",
       "    </tr>\n",
       "    <tr>\n",
       "      <th>1137</th>\n",
       "      <td>26.0</td>\n",
       "      <td>0</td>\n",
       "      <td>22.230</td>\n",
       "      <td>0</td>\n",
       "      <td>0</td>\n",
       "      <td>1</td>\n",
       "      <td>0</td>\n",
       "      <td>0</td>\n",
       "    </tr>\n",
       "    <tr>\n",
       "      <th>1301</th>\n",
       "      <td>62.0</td>\n",
       "      <td>1</td>\n",
       "      <td>30.875</td>\n",
       "      <td>3</td>\n",
       "      <td>1</td>\n",
       "      <td>1</td>\n",
       "      <td>0</td>\n",
       "      <td>0</td>\n",
       "    </tr>\n",
       "    <tr>\n",
       "      <th>867</th>\n",
       "      <td>57.0</td>\n",
       "      <td>1</td>\n",
       "      <td>43.700</td>\n",
       "      <td>1</td>\n",
       "      <td>0</td>\n",
       "      <td>0</td>\n",
       "      <td>0</td>\n",
       "      <td>1</td>\n",
       "    </tr>\n",
       "    <tr>\n",
       "      <th>1133</th>\n",
       "      <td>52.0</td>\n",
       "      <td>0</td>\n",
       "      <td>18.335</td>\n",
       "      <td>0</td>\n",
       "      <td>0</td>\n",
       "      <td>1</td>\n",
       "      <td>0</td>\n",
       "      <td>0</td>\n",
       "    </tr>\n",
       "  </tbody>\n",
       "</table>\n",
       "<p>1064 rows × 8 columns</p>\n",
       "</div>"
      ],
      "text/plain": [
       "       age  sex     bmi  children  smoker  region_northwest  region_southeast  \\\n",
       "591   47.0    1  19.570         1       0                 1                 0   \n",
       "970   50.0    0  28.160         3       0                 0                 1   \n",
       "1311  33.0    0  26.695         0       0                 1                 0   \n",
       "177   54.0    1  29.200         1       0                 0                 0   \n",
       "854   49.0    0  23.845         3       1                 0                 0   \n",
       "...    ...  ...     ...       ...     ...               ...               ...   \n",
       "1102  29.0    1  38.940         1       0                 0                 1   \n",
       "1137  26.0    0  22.230         0       0                 1                 0   \n",
       "1301  62.0    1  30.875         3       1                 1                 0   \n",
       "867   57.0    1  43.700         1       0                 0                 0   \n",
       "1133  52.0    0  18.335         0       0                 1                 0   \n",
       "\n",
       "      region_southwest  \n",
       "591                  0  \n",
       "970                  0  \n",
       "1311                 0  \n",
       "177                  1  \n",
       "854                  0  \n",
       "...                ...  \n",
       "1102                 0  \n",
       "1137                 0  \n",
       "1301                 0  \n",
       "867                  1  \n",
       "1133                 0  \n",
       "\n",
       "[1064 rows x 8 columns]"
      ]
     },
     "execution_count": 19,
     "metadata": {},
     "output_type": "execute_result"
    }
   ],
   "source": [
    "X_train"
   ]
  },
  {
   "cell_type": "code",
   "execution_count": 20,
   "metadata": {},
   "outputs": [],
   "source": [
    "# we need to scale our data to be in the same range and to avoid any feature to be dominant over the other\n",
    "scaler = MinMaxScaler()\n",
    "X_train_scaled = scaler.fit_transform(X_train)\n",
    "X_test_scaled = scaler.transform(X_test)"
   ]
  },
  {
   "cell_type": "markdown",
   "id": "3401113c",
   "metadata": {},
   "source": [
    "## Apply LinearRegression\n",
    " Evaluate Model using MAE,MSE, and r2_score\n"
   ]
  },
  {
   "cell_type": "code",
   "execution_count": 21,
   "id": "ecebab0e",
   "metadata": {},
   "outputs": [
    {
     "name": "stdout",
     "output_type": "stream",
     "text": [
      "-1405.8064144778873\n",
      "[11490.10017837  -164.2768294  12201.56633836  2129.44838665\n",
      " 23625.4144658   -143.37246738 -1114.21845449 -1011.88896952]\n"
     ]
    }
   ],
   "source": [
    "#Linear Regression\n",
    "l_r = LinearRegression()\n",
    "l_r.fit(X_train_scaled,y_train)\n",
    "\n",
    "# to get the intercept\n",
    "print(l_r.intercept_)\n",
    "#For retrieving the slope(coefficients of the features):  \n",
    "print(l_r.coef_)"
   ]
  },
  {
   "cell_type": "code",
   "execution_count": 22,
   "metadata": {},
   "outputs": [
    {
     "name": "stdout",
     "output_type": "stream",
     "text": [
      "MAE: 3981.1386623073636\n",
      "MSE: 31191047.094524883\n"
     ]
    }
   ],
   "source": [
    "#predicting the test set\n",
    "y_pred = l_r.predict(X_test_scaled)\n",
    "#y_pred\n",
    "#finding the error\n",
    "print('MAE:', mean_absolute_error(y_test, y_pred))\n",
    "print('MSE:', mean_squared_error(y_test, y_pred))"
   ]
  },
  {
   "cell_type": "code",
   "execution_count": 23,
   "metadata": {},
   "outputs": [
    {
     "name": "stdout",
     "output_type": "stream",
     "text": [
      "R2 score: 0.8006165850326453\n"
     ]
    }
   ],
   "source": [
    "#score\n",
    "print('R2 score:', r2_score(y_test, y_pred))"
   ]
  },
  {
   "cell_type": "markdown",
   "id": "cb2fd18d-6a26-4e76-9bf7-08d455c096dc",
   "metadata": {},
   "source": [
    "## Apply polynomial Featutres To Enhance Results\n",
    " Evaluate Model using MAE,MSE, and r2_score"
   ]
  },
  {
   "cell_type": "code",
   "execution_count": 24,
   "id": "a86c6c31",
   "metadata": {},
   "outputs": [
    {
     "name": "stdout",
     "output_type": "stream",
     "text": [
      "Degree: 1\n",
      "mean absolute error : 3981.1386623073645\n",
      "mean square derror : 31191047.094524883\n",
      "Accuracy , r2 score : 0.8006165850326453\n",
      "--------------------\n",
      "Degree: 2\n",
      "mean absolute error : 2735.122728089342\n",
      "mean square derror : 16909556.547198053\n",
      "Accuracy , r2 score : 0.8919085621028814\n",
      "--------------------\n",
      "Degree: 3\n",
      "mean absolute error : 2814.0811859395517\n",
      "mean square derror : 16812784.415476095\n",
      "Accuracy , r2 score : 0.8925271613450909\n",
      "--------------------\n"
     ]
    },
    {
     "name": "stdout",
     "output_type": "stream",
     "text": [
      "Degree: 4\n",
      "mean absolute error : 3132.4348308397107\n",
      "mean square derror : 23073019.657220725\n",
      "Accuracy , r2 score : 0.8525096820595965\n",
      "--------------------\n",
      "Degree: 5\n",
      "mean absolute error : 4914.896615314606\n",
      "mean square derror : 75621386.64742048\n",
      "Accuracy , r2 score : 0.5166032653973945\n",
      "--------------------\n"
     ]
    }
   ],
   "source": [
    "#Evaluate Model using MAE,MSE, and r2_score\n",
    "mae_l = []\n",
    "mse_l = []\n",
    "r2_l = []\n",
    "\n",
    "for i in range(1,6):\n",
    "    poly = PolynomialFeatures(degree=i)\n",
    "    X_train_poly = poly.fit_transform(X_train_scaled)\n",
    "    X_test_poly = poly.transform(X_test_scaled)\n",
    "    l_r.fit(X_train_poly,y_train)\n",
    "    y_pred_poly = l_r.predict(X_test_poly)\n",
    "    mae = mean_absolute_error(y_test, y_pred_poly)\n",
    "    mae_l.append(mae)\n",
    "    mse = mean_squared_error(y_test, y_pred_poly)\n",
    "    mse_l.append(mse)\n",
    "    r2 = r2_score(y_test, y_pred_poly)\n",
    "    r2_l.append(r2)\n",
    "\n",
    "    print(f\"Degree: {i}\")\n",
    "    print(f'mean absolute error : {mae}')\n",
    "    print(f'mean square derror : {mse}')\n",
    "    print(f'Accuracy , r2 score : {r2}')\n",
    "    print(\"-\"*20)"
   ]
  },
  {
   "cell_type": "code",
   "execution_count": 25,
   "metadata": {},
   "outputs": [
    {
     "data": {
      "image/png": "[encoded data removed]",
      "text/plain": [
       "<Figure size 640x480 with 1 Axes>"
      ]
     },
     "metadata": {},
     "output_type": "display_data"
    }
   ],
   "source": [
    "degree = [i for i in range(1,6)]\n",
    "\n",
    "\n",
    "plt.plot(degree,mae_l)\n",
    "plt.xlabel('degree')\n",
    "plt.ylabel('mean absolute error')\n",
    "plt.title('mean absolute error vs degree')\n",
    "plt.show()"
   ]
  },
  {
   "cell_type": "code",
   "execution_count": 26,
   "metadata": {},
   "outputs": [
    {
     "data": {
      "image/png": "[encoded data removed]",
      "text/plain": [
       "<Figure size 640x480 with 1 Axes>"
      ]
     },
     "metadata": {},
     "output_type": "display_data"
    }
   ],
   "source": [
    "plt.plot(degree,mse_l)\n",
    "plt.xlabel('degree')\n",
    "plt.ylabel('mean square error')\n",
    "plt.title('mean square error vs degree')\n",
    "plt.show()"
   ]
  },
  {
   "cell_type": "code",
   "execution_count": 27,
   "metadata": {},
   "outputs": [
    {
     "data": {
      "image/png": "[encoded data removed]",
      "text/plain": [
       "<Figure size 640x480 with 1 Axes>"
      ]
     },
     "metadata": {},
     "output_type": "display_data"
    }
   ],
   "source": [
    "plt.plot(degree,r2_l)\n",
    "plt.xlabel('degree')\n",
    "plt.ylabel('r2 score')\n",
    "plt.title('r2 score vs degree')\n",
    "plt.show()"
   ]
  },
  {
   "cell_type": "markdown",
   "metadata": {},
   "source": [
    "### As we can see from the graphs that the best degree is 2 as it has the lowest mean absolute error and mean square error and the highest r2 score"
   ]
  },
  {
   "cell_type": "markdown",
   "id": "61422614-5f5b-4c72-9727-8e6670fcd7b1",
   "metadata": {},
   "source": [
    "### Apply Regularization Lasso, Ridge with diffrent alpha\n",
    " Evaluate Model using MAE,MSE, and r2_score"
   ]
  },
  {
   "cell_type": "code",
   "execution_count": 28,
   "id": "5476e7be",
   "metadata": {},
   "outputs": [],
   "source": [
    "#Lasoo Regression\n",
    "maes = []\n",
    "mses = []\n",
    "r2s = []"
   ]
  },
  {
   "cell_type": "code",
   "execution_count": 29,
   "metadata": {},
   "outputs": [
    {
     "name": "stderr",
     "output_type": "stream",
     "text": [
      "C:\\Users\\Morshedy\\AppData\\Roaming\\Python\\Python310\\site-packages\\sklearn\\linear_model\\_coordinate_descent.py:628: ConvergenceWarning: Objective did not converge. You might want to increase the number of iterations, check the scale of the features or consider increasing regularisation. Duality gap: 7.725e+09, tolerance: 1.534e+07\n",
      "  model = cd_fast.enet_coordinate_descent(\n"
     ]
    },
    {
     "name": "stdout",
     "output_type": "stream",
     "text": [
      "Lambda: 0.0001\n",
      "Mean Absolute Error: 4145.07845349373\n",
      "Mean Squared Error: 76572251.53102297\n",
      "R2 Score: 0.5105250248339837\n",
      "--------------------------------------------------\n"
     ]
    },
    {
     "name": "stderr",
     "output_type": "stream",
     "text": [
      "C:\\Users\\Morshedy\\AppData\\Roaming\\Python\\Python310\\site-packages\\sklearn\\linear_model\\_coordinate_descent.py:628: ConvergenceWarning: Objective did not converge. You might want to increase the number of iterations, check the scale of the features or consider increasing regularisation. Duality gap: 7.786e+09, tolerance: 1.534e+07\n",
      "  model = cd_fast.enet_coordinate_descent(\n"
     ]
    },
    {
     "name": "stdout",
     "output_type": "stream",
     "text": [
      "Lambda: 0.001\n",
      "Mean Absolute Error: 4130.57291705897\n",
      "Mean Squared Error: 75057320.27334261\n",
      "R2 Score: 0.5202089628781836\n",
      "--------------------------------------------------\n"
     ]
    },
    {
     "name": "stderr",
     "output_type": "stream",
     "text": [
      "C:\\Users\\Morshedy\\AppData\\Roaming\\Python\\Python310\\site-packages\\sklearn\\linear_model\\_coordinate_descent.py:628: ConvergenceWarning: Objective did not converge. You might want to increase the number of iterations, check the scale of the features or consider increasing regularisation. Duality gap: 8.133e+09, tolerance: 1.534e+07\n",
      "  model = cd_fast.enet_coordinate_descent(\n"
     ]
    },
    {
     "name": "stdout",
     "output_type": "stream",
     "text": [
      "Lambda: 0.01\n",
      "Mean Absolute Error: 3928.6855249440946\n",
      "Mean Squared Error: 55927789.65935498\n",
      "R2 Score: 0.6424912039642456\n",
      "--------------------------------------------------\n"
     ]
    },
    {
     "name": "stderr",
     "output_type": "stream",
     "text": [
      "C:\\Users\\Morshedy\\AppData\\Roaming\\Python\\Python310\\site-packages\\sklearn\\linear_model\\_coordinate_descent.py:628: ConvergenceWarning: Objective did not converge. You might want to increase the number of iterations, check the scale of the features or consider increasing regularisation. Duality gap: 7.017e+09, tolerance: 1.534e+07\n",
      "  model = cd_fast.enet_coordinate_descent(\n"
     ]
    },
    {
     "name": "stdout",
     "output_type": "stream",
     "text": [
      "Lambda: 0.1\n",
      "Mean Absolute Error: 3075.1533374072146\n",
      "Mean Squared Error: 22819153.991913013\n",
      "R2 Score: 0.8541324747519552\n",
      "--------------------------------------------------\n"
     ]
    },
    {
     "name": "stderr",
     "output_type": "stream",
     "text": [
      "C:\\Users\\Morshedy\\AppData\\Roaming\\Python\\Python310\\site-packages\\sklearn\\linear_model\\_coordinate_descent.py:628: ConvergenceWarning: Objective did not converge. You might want to increase the number of iterations, check the scale of the features or consider increasing regularisation. Duality gap: 1.674e+08, tolerance: 1.534e+07\n",
      "  model = cd_fast.enet_coordinate_descent(\n"
     ]
    },
    {
     "name": "stdout",
     "output_type": "stream",
     "text": [
      "Lambda: 1\n",
      "Mean Absolute Error: 2679.088281409728\n",
      "Mean Squared Error: 16863317.01227281\n",
      "R2 Score: 0.8922041403934068\n",
      "--------------------------------------------------\n",
      "Lambda: 10\n",
      "Mean Absolute Error: 2543.3155281272266\n",
      "Mean Squared Error: 15158998.54875649\n",
      "R2 Score: 0.903098703644778\n",
      "--------------------------------------------------\n",
      "Lambda: 100\n",
      "Mean Absolute Error: 2785.8274707353844\n",
      "Mean Squared Error: 17011553.911586802\n",
      "R2 Score: 0.8912565614577005\n",
      "--------------------------------------------------\n",
      "Lambda: 1000\n",
      "Mean Absolute Error: 5923.403415179424\n",
      "Mean Squared Error: 61758474.249222875\n",
      "R2 Score: 0.6052195534934458\n",
      "--------------------------------------------------\n"
     ]
    }
   ],
   "source": [
    "lamdas = [0.0001,0.001,0.01,0.1,1,10,100,1000]\n",
    "\n",
    "for lamda in lamdas:\n",
    "    poly = PolynomialFeatures(degree=7)\n",
    "    x_poly = poly.fit_transform(X_train_scaled)\n",
    "\n",
    "    lr = Lasso(alpha=lamda)\n",
    "    lr.fit(x_poly, y_train)\n",
    "    \n",
    "    pred_poly = lr.predict(poly.transform(X_test_scaled))\n",
    "\n",
    "    mae = mean_absolute_error(y_test, pred_poly)\n",
    "    mse = mean_squared_error(y_test, pred_poly)\n",
    "    r2 = r2_score(y_test, pred_poly)\n",
    "\n",
    "    maes.append(mae)\n",
    "    mses.append(mse)\n",
    "    r2s.append(r2)\n",
    "\n",
    "    print(f\"Lambda: {lamda}\")\n",
    "    print(f'Mean Absolute Error: {mae}')\n",
    "    print(f'Mean Squared Error: {mse}')\n",
    "    print(f'R2 Score: {r2}')\n",
    "    print(\"-\" * 50)\n"
   ]
  },
  {
   "cell_type": "code",
   "execution_count": 30,
   "metadata": {},
   "outputs": [
    {
     "data": {
      "image/png": "[encoded data removed]",
      "text/plain": [
       "<Figure size 640x480 with 1 Axes>"
      ]
     },
     "metadata": {},
     "output_type": "display_data"
    }
   ],
   "source": [
    "plt.plot(lamdas,maes)\n",
    "plt.xlabel('lamda')\n",
    "plt.ylabel('mean absolute error')\n",
    "plt.title('mean absolute error vs lamda')\n",
    "plt.show()"
   ]
  },
  {
   "cell_type": "code",
   "execution_count": 31,
   "metadata": {},
   "outputs": [
    {
     "data": {
      "image/png": "[encoded data removed]",
      "text/plain": [
       "<Figure size 640x480 with 1 Axes>"
      ]
     },
     "metadata": {},
     "output_type": "display_data"
    }
   ],
   "source": [
    "plt.plot(lamdas,mses)\n",
    "plt.xlabel('lamda')\n",
    "plt.ylabel('mean square error')\n",
    "plt.title('mean square error vs lamda')\n",
    "plt.show()"
   ]
  },
  {
   "cell_type": "code",
   "execution_count": 32,
   "metadata": {},
   "outputs": [
    {
     "data": {
      "image/png": "[encoded data removed]",
      "text/plain": [
       "<Figure size 640x480 with 1 Axes>"
      ]
     },
     "metadata": {},
     "output_type": "display_data"
    }
   ],
   "source": [
    "plt.plot(lamdas,r2s)\n",
    "plt.xlabel('lamda')\n",
    "plt.ylabel('r2 score')\n",
    "plt.title('r2 score vs lamda')\n",
    "plt.show()\n"
   ]
  },
  {
   "cell_type": "markdown",
   "metadata": {},
   "source": [
    "###  As we can see from the graphs above that the best lamda is 10 as it has the lowest mean absolute error and mean square error and the highest r2 score"
   ]
  },
  {
   "cell_type": "markdown",
   "metadata": {},
   "source": [
    "## Ridge"
   ]
  },
  {
   "cell_type": "code",
   "execution_count": 33,
   "metadata": {},
   "outputs": [],
   "source": [
    "maes = []\n",
    "mses = []\n",
    "r2s = []\n",
    "\n",
    "lamdas = [0.0001,0.001,0.01,0.1,1,10,100,1000]"
   ]
  },
  {
   "cell_type": "code",
   "execution_count": 34,
   "metadata": {},
   "outputs": [
    {
     "name": "stdout",
     "output_type": "stream",
     "text": [
      "Lambda: 0.0001\n",
      "Mean Absolute Error: 4476.451205679611\n",
      "Mean Squared Error: 64647096.51649866\n",
      "R2 Score: 0.5867545314486653\n",
      "--------------------------------------------------\n",
      "Lambda: 0.001\n",
      "Mean Absolute Error: 3654.4642423521746\n",
      "Mean Squared Error: 38715795.61643619\n",
      "R2 Score: 0.7525159216428424\n",
      "--------------------------------------------------\n",
      "Lambda: 0.01\n",
      "Mean Absolute Error: 3080.150673970617\n",
      "Mean Squared Error: 23304065.767921634\n",
      "R2 Score: 0.8510327594533478\n",
      "--------------------------------------------------\n",
      "Lambda: 0.1\n",
      "Mean Absolute Error: 2879.6703369294614\n",
      "Mean Squared Error: 20436537.938060883\n",
      "R2 Score: 0.8693629389275702\n",
      "--------------------------------------------------\n",
      "Lambda: 1\n",
      "Mean Absolute Error: 2765.9919525455302\n",
      "Mean Squared Error: 17427569.74425773\n",
      "R2 Score: 0.8885972516516831\n",
      "--------------------------------------------------\n",
      "Lambda: 10\n",
      "Mean Absolute Error: 2783.522904076624\n",
      "Mean Squared Error: 16921929.780312393\n",
      "R2 Score: 0.8918294683339211\n",
      "--------------------------------------------------\n",
      "Lambda: 100\n",
      "Mean Absolute Error: 3175.402304346017\n",
      "Mean Squared Error: 21421259.080204025\n",
      "R2 Score: 0.8630682780424754\n",
      "--------------------------------------------------\n",
      "Lambda: 1000\n",
      "Mean Absolute Error: 4444.608323441413\n",
      "Mean Squared Error: 40392890.7180516\n",
      "R2 Score: 0.7417953790598459\n",
      "--------------------------------------------------\n"
     ]
    }
   ],
   "source": [
    "for lamda in lamdas:\n",
    "    poly = PolynomialFeatures(degree=7)\n",
    "    x_poly = poly.fit_transform(X_train_scaled)\n",
    "\n",
    "    lr = Ridge(alpha=lamda)\n",
    "    lr.fit(x_poly, y_train)\n",
    "    \n",
    "    pred_poly = lr.predict(poly.transform(X_test_scaled))\n",
    "\n",
    "    mae = mean_absolute_error(y_test, pred_poly)\n",
    "    mse = mean_squared_error(y_test, pred_poly)\n",
    "    r2 = r2_score(y_test, pred_poly)\n",
    "\n",
    "    maes.append(mae)\n",
    "    mses.append(mse)\n",
    "    r2s.append(r2)\n",
    "\n",
    "    print(f\"Lambda: {lamda}\")\n",
    "    print(f'Mean Absolute Error: {mae}')\n",
    "    print(f'Mean Squared Error: {mse}')\n",
    "    print(f'R2 Score: {r2}')\n",
    "    print(\"-\" * 50)"
   ]
  },
  {
   "cell_type": "code",
   "execution_count": 35,
   "metadata": {},
   "outputs": [
    {
     "data": {
      "image/png": "[encoded data removed]",
      "text/plain": [
       "<Figure size 640x480 with 1 Axes>"
      ]
     },
     "metadata": {},
     "output_type": "display_data"
    }
   ],
   "source": [
    "plt.plot(lamdas,maes)\n",
    "plt.xlabel('lamda')\n",
    "plt.ylabel('mean absolute error')\n",
    "plt.title('mean absolute error vs lamda')\n",
    "plt.show()\n"
   ]
  },
  {
   "cell_type": "code",
   "execution_count": 36,
   "metadata": {},
   "outputs": [
    {
     "data": {
      "image/png": "[encoded data removed]",
      "text/plain": [
       "<Figure size 640x480 with 1 Axes>"
      ]
     },
     "metadata": {},
     "output_type": "display_data"
    }
   ],
   "source": [
    "plt.plot(lamdas,mses)\n",
    "plt.xlabel('lamda')\n",
    "plt.ylabel('mean square error')\n",
    "plt.title('mean square error vs lamda')\n",
    "plt.show()"
   ]
  },
  {
   "cell_type": "code",
   "execution_count": 37,
   "metadata": {},
   "outputs": [
    {
     "data": {
      "image/png": "[encoded data removed]",
      "text/plain": [
       "<Figure size 640x480 with 1 Axes>"
      ]
     },
     "metadata": {},
     "output_type": "display_data"
    }
   ],
   "source": [
    "plt.plot(lamdas,r2s)\n",
    "plt.xlabel('lamda')\n",
    "plt.ylabel('r2 score')\n",
    "plt.title('r2 score vs lamda')\n",
    "plt.show()"
   ]
  },
  {
   "cell_type": "markdown",
   "metadata": {},
   "source": [
    "## As we can see from the graphs above that the best lamda is 10 for both lasso and ridge regression"
   ]
  },
  {
   "cell_type": "code",
   "execution_count": null,
   "metadata": {},
   "outputs": [],
   "source": []
  },
  {
   "cell_type": "markdown",
   "id": "d0ac14eb",
   "metadata": {},
   "source": [
    "\n",
    "### Gradient Descent Algorithm\n",
    " Evaluate Model using MAE,MSE, and r2_score"
   ]
  },
  {
   "cell_type": "code",
   "execution_count": 38,
   "id": "15c2781a",
   "metadata": {},
   "outputs": [],
   "source": [
    "alphas = [0.000001,0.00001,0.0001,0.001,0.01,0.1,1,10]"
   ]
  },
  {
   "cell_type": "code",
   "execution_count": 39,
   "metadata": {},
   "outputs": [
    {
     "name": "stdout",
     "output_type": "stream",
     "text": [
      "Alpha: 1e-06\n",
      "Mean Absolute Error: 2833.657419967487\n",
      "Mean Squared Error: 17425563.38693147\n",
      "R2 Score: 0.888610076946523\n",
      "--------------------\n",
      "Alpha: 1e-05\n",
      "Mean Absolute Error: 2771.0035044945894\n",
      "Mean Squared Error: 17083146.40509414\n",
      "R2 Score: 0.8907989187309827\n",
      "--------------------\n",
      "Alpha: 0.0001\n",
      "Mean Absolute Error: 2903.326331685014\n",
      "Mean Squared Error: 17155717.445911545\n",
      "R2 Score: 0.8903350208085417\n",
      "--------------------\n",
      "Alpha: 0.001\n",
      "Mean Absolute Error: 2805.115217381309\n",
      "Mean Squared Error: 17325756.91250035\n",
      "R2 Score: 0.8892480727036909\n",
      "--------------------\n",
      "Alpha: 0.01\n",
      "Mean Absolute Error: 2921.294464698223\n",
      "Mean Squared Error: 17972572.708534047\n",
      "R2 Score: 0.8851134137460356\n",
      "--------------------\n",
      "Alpha: 0.1\n",
      "Mean Absolute Error: 3085.991567861322\n",
      "Mean Squared Error: 21399998.83463924\n",
      "R2 Score: 0.8632041805131718\n",
      "--------------------\n",
      "Alpha: 1\n",
      "Mean Absolute Error: 4730.904276882251\n",
      "Mean Squared Error: 40107179.94561979\n",
      "R2 Score: 0.7436217361336491\n",
      "--------------------\n",
      "Alpha: 10\n",
      "Mean Absolute Error: 7253.722770714039\n",
      "Mean Squared Error: 105733924.85389392\n",
      "R2 Score: 0.3241140333832657\n",
      "--------------------\n"
     ]
    }
   ],
   "source": [
    "maes = []\n",
    "mses = []\n",
    "r2s = []\n",
    "\n",
    "for alpha in alphas:\n",
    "    poly = PolynomialFeatures(degree=7)\n",
    "    x_poly = poly.fit_transform(X_train_scaled)\n",
    "\n",
    "    lr = SGDRegressor(alpha=alpha)\n",
    "    lr.fit(x_poly, y_train)\n",
    "    \n",
    "    pred_poly = lr.predict(poly.transform(X_test_scaled))\n",
    "\n",
    "    mae = mean_absolute_error(y_test, pred_poly)\n",
    "    mse = mean_squared_error(y_test, pred_poly)\n",
    "    r2 = r2_score(y_test, pred_poly)\n",
    "\n",
    "    maes.append(mae)\n",
    "    mses.append(mse)\n",
    "    r2s.append(r2)\n",
    "\n",
    "    print(f\"Alpha: {alpha}\")\n",
    "    print(f'Mean Absolute Error: {mae}')\n",
    "    print(f'Mean Squared Error: {mse}')\n",
    "    print(f'R2 Score: {r2}')\n",
    "    print(\"-\" * 20)"
   ]
  },
  {
   "cell_type": "code",
   "execution_count": 40,
   "metadata": {},
   "outputs": [
    {
     "data": {
      "image/png": "[encoded data removed]",
      "text/plain": [
       "<Figure size 640x480 with 1 Axes>"
      ]
     },
     "metadata": {},
     "output_type": "display_data"
    }
   ],
   "source": [
    "plt.plot(alphas,maes)\n",
    "plt.xlabel('alpha')\n",
    "plt.ylabel('mean absolute error')\n",
    "plt.title('mean absolute error vs alpha')\n",
    "plt.show()"
   ]
  },
  {
   "cell_type": "code",
   "execution_count": 41,
   "metadata": {},
   "outputs": [
    {
     "data": {
      "image/png": "[encoded data removed]",
      "text/plain": [
       "<Figure size 640x480 with 1 Axes>"
      ]
     },
     "metadata": {},
     "output_type": "display_data"
    }
   ],
   "source": [
    "plt.plot(alphas,mses)\n",
    "plt.xlabel('alpha')\n",
    "plt.ylabel('mean square error')\n",
    "plt.title('mean square error vs alpha')\n",
    "plt.show()"
   ]
  },
  {
   "cell_type": "code",
   "execution_count": 42,
   "metadata": {},
   "outputs": [
    {
     "data": {
      "image/png": "[encoded data removed]",
      "text/plain": [
       "<Figure size 640x480 with 1 Axes>"
      ]
     },
     "metadata": {},
     "output_type": "display_data"
    }
   ],
   "source": [
    "plt.plot(alphas,r2s)\n",
    "plt.xlabel('alpha')\n",
    "plt.ylabel('r2 score')\n",
    "plt.title('r2 score vs alpha')\n",
    "plt.show()\n"
   ]
  },
  {
   "cell_type": "markdown",
   "metadata": {},
   "source": [
    "- the inverse proportionality between accuracy and learning rate value can be observed in previous curves"
   ]
  },
  {
   "cell_type": "markdown",
   "metadata": {},
   "source": [
    "#### Polynomial Features + Gradient Descent :\n"
   ]
  },
  {
   "cell_type": "code",
   "execution_count": 43,
   "metadata": {},
   "outputs": [
    {
     "name": "stdout",
     "output_type": "stream",
     "text": [
      "Mean Absolute Error: 2621.4199298104872\n",
      "Mean Squared Error: 17025004.45587365\n",
      "R2 Score(Accuracy): 0.891170581161978\n"
     ]
    }
   ],
   "source": [
    "poly = PolynomialFeatures(degree=7)\n",
    "x_poly = poly.fit_transform(X_train_scaled)\n",
    "\n",
    "lr = SGDRegressor(alpha=0.00001)\n",
    "lr.fit(x_poly, y_train)\n",
    "\n",
    "pred_poly = lr.predict(poly.transform(X_test_scaled))\n",
    "\n",
    "mae = mean_absolute_error(y_test, pred_poly)\n",
    "mse = mean_squared_error(y_test, pred_poly)\n",
    "r2 = r2_score(y_test, pred_poly)\n",
    "\n",
    "print(f'Mean Absolute Error: {mae}')\n",
    "print(f'Mean Squared Error: {mse}')\n",
    "print(f'R2 Score(Accuracy): {r2}')"
   ]
  },
  {
   "cell_type": "markdown",
   "id": "e8142482",
   "metadata": {},
   "source": [
    "# Apply linerear Classifier on two number of Minist data set fro ex:1 and 5 \n"
   ]
  },
  {
   "cell_type": "code",
   "execution_count": 44,
   "id": "eb00216b",
   "metadata": {},
   "outputs": [
    {
     "data": {
      "text/plain": [
       "sklearn.utils._bunch.Bunch"
      ]
     },
     "execution_count": 44,
     "metadata": {},
     "output_type": "execute_result"
    }
   ],
   "source": [
    "mnist = load_digits()\n",
    "\n",
    "type(mnist)\n"
   ]
  },
  {
   "cell_type": "code",
   "execution_count": 45,
   "metadata": {},
   "outputs": [
    {
     "data": {
      "text/plain": [
       "dict_keys(['data', 'target', 'frame', 'feature_names', 'target_names', 'images', 'DESCR'])"
      ]
     },
     "execution_count": 45,
     "metadata": {},
     "output_type": "execute_result"
    }
   ],
   "source": [
    "mnist.keys()"
   ]
  },
  {
   "cell_type": "code",
   "execution_count": 46,
   "metadata": {},
   "outputs": [
    {
     "data": {
      "text/plain": [
       "(1797,)"
      ]
     },
     "execution_count": 46,
     "metadata": {},
     "output_type": "execute_result"
    }
   ],
   "source": [
    "mnist.target.shape"
   ]
  },
  {
   "cell_type": "code",
   "execution_count": 47,
   "metadata": {},
   "outputs": [],
   "source": [
    "df = pd.DataFrame(mnist.data, columns=mnist.feature_names)"
   ]
  },
  {
   "cell_type": "code",
   "execution_count": 48,
   "metadata": {},
   "outputs": [],
   "source": [
    "df['target'] = mnist.target"
   ]
  },
  {
   "cell_type": "code",
   "execution_count": 49,
   "metadata": {},
   "outputs": [
    {
     "data": {
      "text/html": [
       "<div>\n",
       "<style scoped>\n",
       "    .dataframe tbody tr th:only-of-type {\n",
       "        vertical-align: middle;\n",
       "    }\n",
       "\n",
       "    .dataframe tbody tr th {\n",
       "        vertical-align: top;\n",
       "    }\n",
       "\n",
       "    .dataframe thead th {\n",
       "        text-align: right;\n",
       "    }\n",
       "</style>\n",
       "<table border=\"1\" class=\"dataframe\">\n",
       "  <thead>\n",
       "    <tr style=\"text-align: right;\">\n",
       "      <th></th>\n",
       "      <th>pixel_0_0</th>\n",
       "      <th>pixel_0_1</th>\n",
       "      <th>pixel_0_2</th>\n",
       "      <th>pixel_0_3</th>\n",
       "      <th>pixel_0_4</th>\n",
       "      <th>pixel_0_5</th>\n",
       "      <th>pixel_0_6</th>\n",
       "      <th>pixel_0_7</th>\n",
       "      <th>pixel_1_0</th>\n",
       "      <th>pixel_1_1</th>\n",
       "      <th>...</th>\n",
       "      <th>pixel_6_7</th>\n",
       "      <th>pixel_7_0</th>\n",
       "      <th>pixel_7_1</th>\n",
       "      <th>pixel_7_2</th>\n",
       "      <th>pixel_7_3</th>\n",
       "      <th>pixel_7_4</th>\n",
       "      <th>pixel_7_5</th>\n",
       "      <th>pixel_7_6</th>\n",
       "      <th>pixel_7_7</th>\n",
       "      <th>target</th>\n",
       "    </tr>\n",
       "  </thead>\n",
       "  <tbody>\n",
       "    <tr>\n",
       "      <th>0</th>\n",
       "      <td>0.0</td>\n",
       "      <td>0.0</td>\n",
       "      <td>5.0</td>\n",
       "      <td>13.0</td>\n",
       "      <td>9.0</td>\n",
       "      <td>1.0</td>\n",
       "      <td>0.0</td>\n",
       "      <td>0.0</td>\n",
       "      <td>0.0</td>\n",
       "      <td>0.0</td>\n",
       "      <td>...</td>\n",
       "      <td>0.0</td>\n",
       "      <td>0.0</td>\n",
       "      <td>0.0</td>\n",
       "      <td>6.0</td>\n",
       "      <td>13.0</td>\n",
       "      <td>10.0</td>\n",
       "      <td>0.0</td>\n",
       "      <td>0.0</td>\n",
       "      <td>0.0</td>\n",
       "      <td>0</td>\n",
       "    </tr>\n",
       "    <tr>\n",
       "      <th>1</th>\n",
       "      <td>0.0</td>\n",
       "      <td>0.0</td>\n",
       "      <td>0.0</td>\n",
       "      <td>12.0</td>\n",
       "      <td>13.0</td>\n",
       "      <td>5.0</td>\n",
       "      <td>0.0</td>\n",
       "      <td>0.0</td>\n",
       "      <td>0.0</td>\n",
       "      <td>0.0</td>\n",
       "      <td>...</td>\n",
       "      <td>0.0</td>\n",
       "      <td>0.0</td>\n",
       "      <td>0.0</td>\n",
       "      <td>0.0</td>\n",
       "      <td>11.0</td>\n",
       "      <td>16.0</td>\n",
       "      <td>10.0</td>\n",
       "      <td>0.0</td>\n",
       "      <td>0.0</td>\n",
       "      <td>1</td>\n",
       "    </tr>\n",
       "    <tr>\n",
       "      <th>2</th>\n",
       "      <td>0.0</td>\n",
       "      <td>0.0</td>\n",
       "      <td>0.0</td>\n",
       "      <td>4.0</td>\n",
       "      <td>15.0</td>\n",
       "      <td>12.0</td>\n",
       "      <td>0.0</td>\n",
       "      <td>0.0</td>\n",
       "      <td>0.0</td>\n",
       "      <td>0.0</td>\n",
       "      <td>...</td>\n",
       "      <td>0.0</td>\n",
       "      <td>0.0</td>\n",
       "      <td>0.0</td>\n",
       "      <td>0.0</td>\n",
       "      <td>3.0</td>\n",
       "      <td>11.0</td>\n",
       "      <td>16.0</td>\n",
       "      <td>9.0</td>\n",
       "      <td>0.0</td>\n",
       "      <td>2</td>\n",
       "    </tr>\n",
       "    <tr>\n",
       "      <th>3</th>\n",
       "      <td>0.0</td>\n",
       "      <td>0.0</td>\n",
       "      <td>7.0</td>\n",
       "      <td>15.0</td>\n",
       "      <td>13.0</td>\n",
       "      <td>1.0</td>\n",
       "      <td>0.0</td>\n",
       "      <td>0.0</td>\n",
       "      <td>0.0</td>\n",
       "      <td>8.0</td>\n",
       "      <td>...</td>\n",
       "      <td>0.0</td>\n",
       "      <td>0.0</td>\n",
       "      <td>0.0</td>\n",
       "      <td>7.0</td>\n",
       "      <td>13.0</td>\n",
       "      <td>13.0</td>\n",
       "      <td>9.0</td>\n",
       "      <td>0.0</td>\n",
       "      <td>0.0</td>\n",
       "      <td>3</td>\n",
       "    </tr>\n",
       "    <tr>\n",
       "      <th>4</th>\n",
       "      <td>0.0</td>\n",
       "      <td>0.0</td>\n",
       "      <td>0.0</td>\n",
       "      <td>1.0</td>\n",
       "      <td>11.0</td>\n",
       "      <td>0.0</td>\n",
       "      <td>0.0</td>\n",
       "      <td>0.0</td>\n",
       "      <td>0.0</td>\n",
       "      <td>0.0</td>\n",
       "      <td>...</td>\n",
       "      <td>0.0</td>\n",
       "      <td>0.0</td>\n",
       "      <td>0.0</td>\n",
       "      <td>0.0</td>\n",
       "      <td>2.0</td>\n",
       "      <td>16.0</td>\n",
       "      <td>4.0</td>\n",
       "      <td>0.0</td>\n",
       "      <td>0.0</td>\n",
       "      <td>4</td>\n",
       "    </tr>\n",
       "  </tbody>\n",
       "</table>\n",
       "<p>5 rows × 65 columns</p>\n",
       "</div>"
      ],
      "text/plain": [
       "   pixel_0_0  pixel_0_1  pixel_0_2  pixel_0_3  pixel_0_4  pixel_0_5  \\\n",
       "0        0.0        0.0        5.0       13.0        9.0        1.0   \n",
       "1        0.0        0.0        0.0       12.0       13.0        5.0   \n",
       "2        0.0        0.0        0.0        4.0       15.0       12.0   \n",
       "3        0.0        0.0        7.0       15.0       13.0        1.0   \n",
       "4        0.0        0.0        0.0        1.0       11.0        0.0   \n",
       "\n",
       "   pixel_0_6  pixel_0_7  pixel_1_0  pixel_1_1  ...  pixel_6_7  pixel_7_0  \\\n",
       "0        0.0        0.0        0.0        0.0  ...        0.0        0.0   \n",
       "1        0.0        0.0        0.0        0.0  ...        0.0        0.0   \n",
       "2        0.0        0.0        0.0        0.0  ...        0.0        0.0   \n",
       "3        0.0        0.0        0.0        8.0  ...        0.0        0.0   \n",
       "4        0.0        0.0        0.0        0.0  ...        0.0        0.0   \n",
       "\n",
       "   pixel_7_1  pixel_7_2  pixel_7_3  pixel_7_4  pixel_7_5  pixel_7_6  \\\n",
       "0        0.0        6.0       13.0       10.0        0.0        0.0   \n",
       "1        0.0        0.0       11.0       16.0       10.0        0.0   \n",
       "2        0.0        0.0        3.0       11.0       16.0        9.0   \n",
       "3        0.0        7.0       13.0       13.0        9.0        0.0   \n",
       "4        0.0        0.0        2.0       16.0        4.0        0.0   \n",
       "\n",
       "   pixel_7_7  target  \n",
       "0        0.0       0  \n",
       "1        0.0       1  \n",
       "2        0.0       2  \n",
       "3        0.0       3  \n",
       "4        0.0       4  \n",
       "\n",
       "[5 rows x 65 columns]"
      ]
     },
     "execution_count": 49,
     "metadata": {},
     "output_type": "execute_result"
    }
   ],
   "source": [
    "df.head()"
   ]
  },
  {
   "cell_type": "code",
   "execution_count": 50,
   "metadata": {},
   "outputs": [],
   "source": [
    "target_df = df[df['target'].isin([1, 5])]"
   ]
  },
  {
   "cell_type": "code",
   "execution_count": 51,
   "metadata": {},
   "outputs": [
    {
     "name": "stdout",
     "output_type": "stream",
     "text": [
      "<class 'pandas.core.frame.DataFrame'>\n",
      "Index: 364 entries, 1 to 1787\n",
      "Data columns (total 65 columns):\n",
      " #   Column     Non-Null Count  Dtype  \n",
      "---  ------     --------------  -----  \n",
      " 0   pixel_0_0  364 non-null    float64\n",
      " 1   pixel_0_1  364 non-null    float64\n",
      " 2   pixel_0_2  364 non-null    float64\n",
      " 3   pixel_0_3  364 non-null    float64\n",
      " 4   pixel_0_4  364 non-null    float64\n",
      " 5   pixel_0_5  364 non-null    float64\n",
      " 6   pixel_0_6  364 non-null    float64\n",
      " 7   pixel_0_7  364 non-null    float64\n",
      " 8   pixel_1_0  364 non-null    float64\n",
      " 9   pixel_1_1  364 non-null    float64\n",
      " 10  pixel_1_2  364 non-null    float64\n",
      " 11  pixel_1_3  364 non-null    float64\n",
      " 12  pixel_1_4  364 non-null    float64\n",
      " 13  pixel_1_5  364 non-null    float64\n",
      " 14  pixel_1_6  364 non-null    float64\n",
      " 15  pixel_1_7  364 non-null    float64\n",
      " 16  pixel_2_0  364 non-null    float64\n",
      " 17  pixel_2_1  364 non-null    float64\n",
      " 18  pixel_2_2  364 non-null    float64\n",
      " 19  pixel_2_3  364 non-null    float64\n",
      " 20  pixel_2_4  364 non-null    float64\n",
      " 21  pixel_2_5  364 non-null    float64\n",
      " 22  pixel_2_6  364 non-null    float64\n",
      " 23  pixel_2_7  364 non-null    float64\n",
      " 24  pixel_3_0  364 non-null    float64\n",
      " 25  pixel_3_1  364 non-null    float64\n",
      " 26  pixel_3_2  364 non-null    float64\n",
      " 27  pixel_3_3  364 non-null    float64\n",
      " 28  pixel_3_4  364 non-null    float64\n",
      " 29  pixel_3_5  364 non-null    float64\n",
      " 30  pixel_3_6  364 non-null    float64\n",
      " 31  pixel_3_7  364 non-null    float64\n",
      " 32  pixel_4_0  364 non-null    float64\n",
      " 33  pixel_4_1  364 non-null    float64\n",
      " 34  pixel_4_2  364 non-null    float64\n",
      " 35  pixel_4_3  364 non-null    float64\n",
      " 36  pixel_4_4  364 non-null    float64\n",
      " 37  pixel_4_5  364 non-null    float64\n",
      " 38  pixel_4_6  364 non-null    float64\n",
      " 39  pixel_4_7  364 non-null    float64\n",
      " 40  pixel_5_0  364 non-null    float64\n",
      " 41  pixel_5_1  364 non-null    float64\n",
      " 42  pixel_5_2  364 non-null    float64\n",
      " 43  pixel_5_3  364 non-null    float64\n",
      " 44  pixel_5_4  364 non-null    float64\n",
      " 45  pixel_5_5  364 non-null    float64\n",
      " 46  pixel_5_6  364 non-null    float64\n",
      " 47  pixel_5_7  364 non-null    float64\n",
      " 48  pixel_6_0  364 non-null    float64\n",
      " 49  pixel_6_1  364 non-null    float64\n",
      " 50  pixel_6_2  364 non-null    float64\n",
      " 51  pixel_6_3  364 non-null    float64\n",
      " 52  pixel_6_4  364 non-null    float64\n",
      " 53  pixel_6_5  364 non-null    float64\n",
      " 54  pixel_6_6  364 non-null    float64\n",
      " 55  pixel_6_7  364 non-null    float64\n",
      " 56  pixel_7_0  364 non-null    float64\n",
      " 57  pixel_7_1  364 non-null    float64\n",
      " 58  pixel_7_2  364 non-null    float64\n",
      " 59  pixel_7_3  364 non-null    float64\n",
      " 60  pixel_7_4  364 non-null    float64\n",
      " 61  pixel_7_5  364 non-null    float64\n",
      " 62  pixel_7_6  364 non-null    float64\n",
      " 63  pixel_7_7  364 non-null    float64\n",
      " 64  target     364 non-null    int32  \n",
      "dtypes: float64(64), int32(1)\n",
      "memory usage: 186.3 KB\n"
     ]
    }
   ],
   "source": [
    "target_df.info()"
   ]
  },
  {
   "cell_type": "code",
   "execution_count": 52,
   "metadata": {},
   "outputs": [
    {
     "name": "stdout",
     "output_type": "stream",
     "text": [
      "target\n",
      "1    182\n",
      "5    182\n",
      "Name: count, dtype: int64\n"
     ]
    },
    {
     "data": {
      "text/html": [
       "<div>\n",
       "<style scoped>\n",
       "    .dataframe tbody tr th:only-of-type {\n",
       "        vertical-align: middle;\n",
       "    }\n",
       "\n",
       "    .dataframe tbody tr th {\n",
       "        vertical-align: top;\n",
       "    }\n",
       "\n",
       "    .dataframe thead th {\n",
       "        text-align: right;\n",
       "    }\n",
       "</style>\n",
       "<table border=\"1\" class=\"dataframe\">\n",
       "  <thead>\n",
       "    <tr style=\"text-align: right;\">\n",
       "      <th></th>\n",
       "      <th>pixel_0_0</th>\n",
       "      <th>pixel_0_1</th>\n",
       "      <th>pixel_0_2</th>\n",
       "      <th>pixel_0_3</th>\n",
       "      <th>pixel_0_4</th>\n",
       "      <th>pixel_0_5</th>\n",
       "      <th>pixel_0_6</th>\n",
       "      <th>pixel_0_7</th>\n",
       "      <th>pixel_1_0</th>\n",
       "      <th>pixel_1_1</th>\n",
       "      <th>...</th>\n",
       "      <th>pixel_6_7</th>\n",
       "      <th>pixel_7_0</th>\n",
       "      <th>pixel_7_1</th>\n",
       "      <th>pixel_7_2</th>\n",
       "      <th>pixel_7_3</th>\n",
       "      <th>pixel_7_4</th>\n",
       "      <th>pixel_7_5</th>\n",
       "      <th>pixel_7_6</th>\n",
       "      <th>pixel_7_7</th>\n",
       "      <th>target</th>\n",
       "    </tr>\n",
       "  </thead>\n",
       "  <tbody>\n",
       "    <tr>\n",
       "      <th>1</th>\n",
       "      <td>0.0</td>\n",
       "      <td>0.0</td>\n",
       "      <td>0.0</td>\n",
       "      <td>12.0</td>\n",
       "      <td>13.0</td>\n",
       "      <td>5.0</td>\n",
       "      <td>0.0</td>\n",
       "      <td>0.0</td>\n",
       "      <td>0.0</td>\n",
       "      <td>0.0</td>\n",
       "      <td>...</td>\n",
       "      <td>0.0</td>\n",
       "      <td>0.0</td>\n",
       "      <td>0.0</td>\n",
       "      <td>0.0</td>\n",
       "      <td>11.0</td>\n",
       "      <td>16.0</td>\n",
       "      <td>10.0</td>\n",
       "      <td>0.0</td>\n",
       "      <td>0.0</td>\n",
       "      <td>1</td>\n",
       "    </tr>\n",
       "    <tr>\n",
       "      <th>5</th>\n",
       "      <td>0.0</td>\n",
       "      <td>0.0</td>\n",
       "      <td>12.0</td>\n",
       "      <td>10.0</td>\n",
       "      <td>0.0</td>\n",
       "      <td>0.0</td>\n",
       "      <td>0.0</td>\n",
       "      <td>0.0</td>\n",
       "      <td>0.0</td>\n",
       "      <td>0.0</td>\n",
       "      <td>...</td>\n",
       "      <td>0.0</td>\n",
       "      <td>0.0</td>\n",
       "      <td>0.0</td>\n",
       "      <td>9.0</td>\n",
       "      <td>16.0</td>\n",
       "      <td>16.0</td>\n",
       "      <td>10.0</td>\n",
       "      <td>0.0</td>\n",
       "      <td>0.0</td>\n",
       "      <td>5</td>\n",
       "    </tr>\n",
       "    <tr>\n",
       "      <th>11</th>\n",
       "      <td>0.0</td>\n",
       "      <td>0.0</td>\n",
       "      <td>0.0</td>\n",
       "      <td>0.0</td>\n",
       "      <td>14.0</td>\n",
       "      <td>13.0</td>\n",
       "      <td>1.0</td>\n",
       "      <td>0.0</td>\n",
       "      <td>0.0</td>\n",
       "      <td>0.0</td>\n",
       "      <td>...</td>\n",
       "      <td>0.0</td>\n",
       "      <td>0.0</td>\n",
       "      <td>0.0</td>\n",
       "      <td>0.0</td>\n",
       "      <td>1.0</td>\n",
       "      <td>13.0</td>\n",
       "      <td>16.0</td>\n",
       "      <td>1.0</td>\n",
       "      <td>0.0</td>\n",
       "      <td>1</td>\n",
       "    </tr>\n",
       "    <tr>\n",
       "      <th>15</th>\n",
       "      <td>0.0</td>\n",
       "      <td>5.0</td>\n",
       "      <td>12.0</td>\n",
       "      <td>13.0</td>\n",
       "      <td>16.0</td>\n",
       "      <td>16.0</td>\n",
       "      <td>2.0</td>\n",
       "      <td>0.0</td>\n",
       "      <td>0.0</td>\n",
       "      <td>11.0</td>\n",
       "      <td>...</td>\n",
       "      <td>0.0</td>\n",
       "      <td>0.0</td>\n",
       "      <td>4.0</td>\n",
       "      <td>15.0</td>\n",
       "      <td>16.0</td>\n",
       "      <td>2.0</td>\n",
       "      <td>0.0</td>\n",
       "      <td>0.0</td>\n",
       "      <td>0.0</td>\n",
       "      <td>5</td>\n",
       "    </tr>\n",
       "    <tr>\n",
       "      <th>21</th>\n",
       "      <td>0.0</td>\n",
       "      <td>0.0</td>\n",
       "      <td>0.0</td>\n",
       "      <td>2.0</td>\n",
       "      <td>16.0</td>\n",
       "      <td>16.0</td>\n",
       "      <td>2.0</td>\n",
       "      <td>0.0</td>\n",
       "      <td>0.0</td>\n",
       "      <td>0.0</td>\n",
       "      <td>...</td>\n",
       "      <td>0.0</td>\n",
       "      <td>0.0</td>\n",
       "      <td>0.0</td>\n",
       "      <td>0.0</td>\n",
       "      <td>2.0</td>\n",
       "      <td>12.0</td>\n",
       "      <td>15.0</td>\n",
       "      <td>4.0</td>\n",
       "      <td>0.0</td>\n",
       "      <td>1</td>\n",
       "    </tr>\n",
       "  </tbody>\n",
       "</table>\n",
       "<p>5 rows × 65 columns</p>\n",
       "</div>"
      ],
      "text/plain": [
       "    pixel_0_0  pixel_0_1  pixel_0_2  pixel_0_3  pixel_0_4  pixel_0_5  \\\n",
       "1         0.0        0.0        0.0       12.0       13.0        5.0   \n",
       "5         0.0        0.0       12.0       10.0        0.0        0.0   \n",
       "11        0.0        0.0        0.0        0.0       14.0       13.0   \n",
       "15        0.0        5.0       12.0       13.0       16.0       16.0   \n",
       "21        0.0        0.0        0.0        2.0       16.0       16.0   \n",
       "\n",
       "    pixel_0_6  pixel_0_7  pixel_1_0  pixel_1_1  ...  pixel_6_7  pixel_7_0  \\\n",
       "1         0.0        0.0        0.0        0.0  ...        0.0        0.0   \n",
       "5         0.0        0.0        0.0        0.0  ...        0.0        0.0   \n",
       "11        1.0        0.0        0.0        0.0  ...        0.0        0.0   \n",
       "15        2.0        0.0        0.0       11.0  ...        0.0        0.0   \n",
       "21        2.0        0.0        0.0        0.0  ...        0.0        0.0   \n",
       "\n",
       "    pixel_7_1  pixel_7_2  pixel_7_3  pixel_7_4  pixel_7_5  pixel_7_6  \\\n",
       "1         0.0        0.0       11.0       16.0       10.0        0.0   \n",
       "5         0.0        9.0       16.0       16.0       10.0        0.0   \n",
       "11        0.0        0.0        1.0       13.0       16.0        1.0   \n",
       "15        4.0       15.0       16.0        2.0        0.0        0.0   \n",
       "21        0.0        0.0        2.0       12.0       15.0        4.0   \n",
       "\n",
       "    pixel_7_7  target  \n",
       "1         0.0       1  \n",
       "5         0.0       5  \n",
       "11        0.0       1  \n",
       "15        0.0       5  \n",
       "21        0.0       1  \n",
       "\n",
       "[5 rows x 65 columns]"
      ]
     },
     "execution_count": 52,
     "metadata": {},
     "output_type": "execute_result"
    }
   ],
   "source": [
    "print(target_df['target'].value_counts())\n",
    "target_df.head()"
   ]
  },
  {
   "cell_type": "code",
   "execution_count": 53,
   "metadata": {},
   "outputs": [
    {
     "data": {
      "text/html": [
       "<div>\n",
       "<style scoped>\n",
       "    .dataframe tbody tr th:only-of-type {\n",
       "        vertical-align: middle;\n",
       "    }\n",
       "\n",
       "    .dataframe tbody tr th {\n",
       "        vertical-align: top;\n",
       "    }\n",
       "\n",
       "    .dataframe thead th {\n",
       "        text-align: right;\n",
       "    }\n",
       "</style>\n",
       "<table border=\"1\" class=\"dataframe\">\n",
       "  <thead>\n",
       "    <tr style=\"text-align: right;\">\n",
       "      <th></th>\n",
       "      <th>pixel_0_0</th>\n",
       "      <th>pixel_0_1</th>\n",
       "      <th>pixel_0_2</th>\n",
       "      <th>pixel_0_3</th>\n",
       "      <th>pixel_0_4</th>\n",
       "      <th>pixel_0_5</th>\n",
       "      <th>pixel_0_6</th>\n",
       "      <th>pixel_0_7</th>\n",
       "      <th>pixel_1_0</th>\n",
       "      <th>pixel_1_1</th>\n",
       "      <th>...</th>\n",
       "      <th>pixel_6_7</th>\n",
       "      <th>pixel_7_0</th>\n",
       "      <th>pixel_7_1</th>\n",
       "      <th>pixel_7_2</th>\n",
       "      <th>pixel_7_3</th>\n",
       "      <th>pixel_7_4</th>\n",
       "      <th>pixel_7_5</th>\n",
       "      <th>pixel_7_6</th>\n",
       "      <th>pixel_7_7</th>\n",
       "      <th>target</th>\n",
       "    </tr>\n",
       "  </thead>\n",
       "  <tbody>\n",
       "    <tr>\n",
       "      <th>count</th>\n",
       "      <td>364.0</td>\n",
       "      <td>364.000000</td>\n",
       "      <td>364.00000</td>\n",
       "      <td>364.000000</td>\n",
       "      <td>364.000000</td>\n",
       "      <td>364.000000</td>\n",
       "      <td>364.000000</td>\n",
       "      <td>364.000000</td>\n",
       "      <td>364.000000</td>\n",
       "      <td>364.000000</td>\n",
       "      <td>...</td>\n",
       "      <td>364.000000</td>\n",
       "      <td>364.0</td>\n",
       "      <td>364.000000</td>\n",
       "      <td>364.000000</td>\n",
       "      <td>364.000000</td>\n",
       "      <td>364.000000</td>\n",
       "      <td>364.000000</td>\n",
       "      <td>364.000000</td>\n",
       "      <td>364.000000</td>\n",
       "      <td>364.000000</td>\n",
       "    </tr>\n",
       "    <tr>\n",
       "      <th>mean</th>\n",
       "      <td>0.0</td>\n",
       "      <td>0.489011</td>\n",
       "      <td>6.21978</td>\n",
       "      <td>11.123626</td>\n",
       "      <td>12.151099</td>\n",
       "      <td>9.129121</td>\n",
       "      <td>2.568681</td>\n",
       "      <td>0.021978</td>\n",
       "      <td>0.002747</td>\n",
       "      <td>1.994505</td>\n",
       "      <td>...</td>\n",
       "      <td>0.321429</td>\n",
       "      <td>0.0</td>\n",
       "      <td>0.480769</td>\n",
       "      <td>6.453297</td>\n",
       "      <td>11.936813</td>\n",
       "      <td>11.195055</td>\n",
       "      <td>5.554945</td>\n",
       "      <td>1.623626</td>\n",
       "      <td>0.747253</td>\n",
       "      <td>3.000000</td>\n",
       "    </tr>\n",
       "    <tr>\n",
       "      <th>std</th>\n",
       "      <td>0.0</td>\n",
       "      <td>1.284530</td>\n",
       "      <td>5.31032</td>\n",
       "      <td>5.000671</td>\n",
       "      <td>4.264237</td>\n",
       "      <td>5.908609</td>\n",
       "      <td>3.780945</td>\n",
       "      <td>0.195149</td>\n",
       "      <td>0.052414</td>\n",
       "      <td>3.208112</td>\n",
       "      <td>...</td>\n",
       "      <td>1.429127</td>\n",
       "      <td>0.0</td>\n",
       "      <td>1.273663</td>\n",
       "      <td>5.607503</td>\n",
       "      <td>5.207419</td>\n",
       "      <td>4.691928</td>\n",
       "      <td>6.010528</td>\n",
       "      <td>4.111208</td>\n",
       "      <td>2.933021</td>\n",
       "      <td>2.002753</td>\n",
       "    </tr>\n",
       "    <tr>\n",
       "      <th>min</th>\n",
       "      <td>0.0</td>\n",
       "      <td>0.000000</td>\n",
       "      <td>0.00000</td>\n",
       "      <td>0.000000</td>\n",
       "      <td>0.000000</td>\n",
       "      <td>0.000000</td>\n",
       "      <td>0.000000</td>\n",
       "      <td>0.000000</td>\n",
       "      <td>0.000000</td>\n",
       "      <td>0.000000</td>\n",
       "      <td>...</td>\n",
       "      <td>0.000000</td>\n",
       "      <td>0.0</td>\n",
       "      <td>0.000000</td>\n",
       "      <td>0.000000</td>\n",
       "      <td>0.000000</td>\n",
       "      <td>0.000000</td>\n",
       "      <td>0.000000</td>\n",
       "      <td>0.000000</td>\n",
       "      <td>0.000000</td>\n",
       "      <td>1.000000</td>\n",
       "    </tr>\n",
       "    <tr>\n",
       "      <th>25%</th>\n",
       "      <td>0.0</td>\n",
       "      <td>0.000000</td>\n",
       "      <td>1.00000</td>\n",
       "      <td>9.000000</td>\n",
       "      <td>11.000000</td>\n",
       "      <td>3.000000</td>\n",
       "      <td>0.000000</td>\n",
       "      <td>0.000000</td>\n",
       "      <td>0.000000</td>\n",
       "      <td>0.000000</td>\n",
       "      <td>...</td>\n",
       "      <td>0.000000</td>\n",
       "      <td>0.0</td>\n",
       "      <td>0.000000</td>\n",
       "      <td>1.000000</td>\n",
       "      <td>11.000000</td>\n",
       "      <td>8.000000</td>\n",
       "      <td>0.000000</td>\n",
       "      <td>0.000000</td>\n",
       "      <td>0.000000</td>\n",
       "      <td>1.000000</td>\n",
       "    </tr>\n",
       "    <tr>\n",
       "      <th>50%</th>\n",
       "      <td>0.0</td>\n",
       "      <td>0.000000</td>\n",
       "      <td>6.00000</td>\n",
       "      <td>12.000000</td>\n",
       "      <td>13.000000</td>\n",
       "      <td>11.000000</td>\n",
       "      <td>0.000000</td>\n",
       "      <td>0.000000</td>\n",
       "      <td>0.000000</td>\n",
       "      <td>0.000000</td>\n",
       "      <td>...</td>\n",
       "      <td>0.000000</td>\n",
       "      <td>0.0</td>\n",
       "      <td>0.000000</td>\n",
       "      <td>6.000000</td>\n",
       "      <td>14.000000</td>\n",
       "      <td>13.000000</td>\n",
       "      <td>3.000000</td>\n",
       "      <td>0.000000</td>\n",
       "      <td>0.000000</td>\n",
       "      <td>3.000000</td>\n",
       "    </tr>\n",
       "    <tr>\n",
       "      <th>75%</th>\n",
       "      <td>0.0</td>\n",
       "      <td>0.000000</td>\n",
       "      <td>11.00000</td>\n",
       "      <td>15.000000</td>\n",
       "      <td>16.000000</td>\n",
       "      <td>15.000000</td>\n",
       "      <td>4.000000</td>\n",
       "      <td>0.000000</td>\n",
       "      <td>0.000000</td>\n",
       "      <td>4.000000</td>\n",
       "      <td>...</td>\n",
       "      <td>0.000000</td>\n",
       "      <td>0.0</td>\n",
       "      <td>0.000000</td>\n",
       "      <td>11.000000</td>\n",
       "      <td>16.000000</td>\n",
       "      <td>15.000000</td>\n",
       "      <td>11.000000</td>\n",
       "      <td>0.000000</td>\n",
       "      <td>0.000000</td>\n",
       "      <td>5.000000</td>\n",
       "    </tr>\n",
       "    <tr>\n",
       "      <th>max</th>\n",
       "      <td>0.0</td>\n",
       "      <td>8.000000</td>\n",
       "      <td>16.00000</td>\n",
       "      <td>16.000000</td>\n",
       "      <td>16.000000</td>\n",
       "      <td>16.000000</td>\n",
       "      <td>16.000000</td>\n",
       "      <td>2.000000</td>\n",
       "      <td>1.000000</td>\n",
       "      <td>14.000000</td>\n",
       "      <td>...</td>\n",
       "      <td>13.000000</td>\n",
       "      <td>0.0</td>\n",
       "      <td>9.000000</td>\n",
       "      <td>16.000000</td>\n",
       "      <td>16.000000</td>\n",
       "      <td>16.000000</td>\n",
       "      <td>16.000000</td>\n",
       "      <td>16.000000</td>\n",
       "      <td>16.000000</td>\n",
       "      <td>5.000000</td>\n",
       "    </tr>\n",
       "  </tbody>\n",
       "</table>\n",
       "<p>8 rows × 65 columns</p>\n",
       "</div>"
      ],
      "text/plain": [
       "       pixel_0_0   pixel_0_1  pixel_0_2   pixel_0_3   pixel_0_4   pixel_0_5  \\\n",
       "count      364.0  364.000000  364.00000  364.000000  364.000000  364.000000   \n",
       "mean         0.0    0.489011    6.21978   11.123626   12.151099    9.129121   \n",
       "std          0.0    1.284530    5.31032    5.000671    4.264237    5.908609   \n",
       "min          0.0    0.000000    0.00000    0.000000    0.000000    0.000000   \n",
       "25%          0.0    0.000000    1.00000    9.000000   11.000000    3.000000   \n",
       "50%          0.0    0.000000    6.00000   12.000000   13.000000   11.000000   \n",
       "75%          0.0    0.000000   11.00000   15.000000   16.000000   15.000000   \n",
       "max          0.0    8.000000   16.00000   16.000000   16.000000   16.000000   \n",
       "\n",
       "        pixel_0_6   pixel_0_7   pixel_1_0   pixel_1_1  ...   pixel_6_7  \\\n",
       "count  364.000000  364.000000  364.000000  364.000000  ...  364.000000   \n",
       "mean     2.568681    0.021978    0.002747    1.994505  ...    0.321429   \n",
       "std      3.780945    0.195149    0.052414    3.208112  ...    1.429127   \n",
       "min      0.000000    0.000000    0.000000    0.000000  ...    0.000000   \n",
       "25%      0.000000    0.000000    0.000000    0.000000  ...    0.000000   \n",
       "50%      0.000000    0.000000    0.000000    0.000000  ...    0.000000   \n",
       "75%      4.000000    0.000000    0.000000    4.000000  ...    0.000000   \n",
       "max     16.000000    2.000000    1.000000   14.000000  ...   13.000000   \n",
       "\n",
       "       pixel_7_0   pixel_7_1   pixel_7_2   pixel_7_3   pixel_7_4   pixel_7_5  \\\n",
       "count      364.0  364.000000  364.000000  364.000000  364.000000  364.000000   \n",
       "mean         0.0    0.480769    6.453297   11.936813   11.195055    5.554945   \n",
       "std          0.0    1.273663    5.607503    5.207419    4.691928    6.010528   \n",
       "min          0.0    0.000000    0.000000    0.000000    0.000000    0.000000   \n",
       "25%          0.0    0.000000    1.000000   11.000000    8.000000    0.000000   \n",
       "50%          0.0    0.000000    6.000000   14.000000   13.000000    3.000000   \n",
       "75%          0.0    0.000000   11.000000   16.000000   15.000000   11.000000   \n",
       "max          0.0    9.000000   16.000000   16.000000   16.000000   16.000000   \n",
       "\n",
       "        pixel_7_6   pixel_7_7      target  \n",
       "count  364.000000  364.000000  364.000000  \n",
       "mean     1.623626    0.747253    3.000000  \n",
       "std      4.111208    2.933021    2.002753  \n",
       "min      0.000000    0.000000    1.000000  \n",
       "25%      0.000000    0.000000    1.000000  \n",
       "50%      0.000000    0.000000    3.000000  \n",
       "75%      0.000000    0.000000    5.000000  \n",
       "max     16.000000   16.000000    5.000000  \n",
       "\n",
       "[8 rows x 65 columns]"
      ]
     },
     "execution_count": 53,
     "metadata": {},
     "output_type": "execute_result"
    }
   ],
   "source": [
    "target_df.describe()"
   ]
  },
  {
   "cell_type": "markdown",
   "metadata": {},
   "source": [
    "### evaluation "
   ]
  },
  {
   "cell_type": "code",
   "execution_count": 54,
   "metadata": {},
   "outputs": [],
   "source": [
    "X = target_df.drop('target', axis=1)\n",
    "y = target_df['target']"
   ]
  },
  {
   "cell_type": "code",
   "execution_count": 55,
   "metadata": {},
   "outputs": [],
   "source": [
    "X_train, X_test, y_train, y_test = train_test_split(X, y, test_size=0.2, random_state=42)"
   ]
  },
  {
   "cell_type": "markdown",
   "metadata": {},
   "source": [
    "### Regression"
   ]
  },
  {
   "cell_type": "code",
   "execution_count": 65,
   "metadata": {},
   "outputs": [
    {
     "name": "stderr",
     "output_type": "stream",
     "text": [
      "C:\\Users\\Morshedy\\AppData\\Roaming\\Python\\Python310\\site-packages\\sklearn\\svm\\_classes.py:32: FutureWarning: The default value of `dual` will change from `True` to `'auto'` in 1.5. Set the value of `dual` explicitly to suppress the warning.\n",
      "  warnings.warn(\n"
     ]
    },
    {
     "data": {
      "text/html": [
       "<style>#sk-container-id-2 {color: black;}#sk-container-id-2 pre{padding: 0;}#sk-container-id-2 div.sk-toggleable {background-color: white;}#sk-container-id-2 label.sk-toggleable__label {cursor: pointer;display: block;width: 100%;margin-bottom: 0;padding: 0.3em;box-sizing: border-box;text-align: center;}#sk-container-id-2 label.sk-toggleable__label-arrow:before {content: \"▸\";float: left;margin-right: 0.25em;color: #696969;}#sk-container-id-2 label.sk-toggleable__label-arrow:hover:before {color: black;}#sk-container-id-2 div.sk-estimator:hover label.sk-toggleable__label-arrow:before {color: black;}#sk-container-id-2 div.sk-toggleable__content {max-height: 0;max-width: 0;overflow: hidden;text-align: left;background-color: #f0f8ff;}#sk-container-id-2 div.sk-toggleable__content pre {margin: 0.2em;color: black;border-radius: 0.25em;background-color: #f0f8ff;}#sk-container-id-2 input.sk-toggleable__control:checked~div.sk-toggleable__content {max-height: 200px;max-width: 100%;overflow: auto;}#sk-container-id-2 input.sk-toggleable__control:checked~label.sk-toggleable__label-arrow:before {content: \"▾\";}#sk-container-id-2 div.sk-estimator input.sk-toggleable__control:checked~label.sk-toggleable__label {background-color: #d4ebff;}#sk-container-id-2 div.sk-label input.sk-toggleable__control:checked~label.sk-toggleable__label {background-color: #d4ebff;}#sk-container-id-2 input.sk-hidden--visually {border: 0;clip: rect(1px 1px 1px 1px);clip: rect(1px, 1px, 1px, 1px);height: 1px;margin: -1px;overflow: hidden;padding: 0;position: absolute;width: 1px;}#sk-container-id-2 div.sk-estimator {font-family: monospace;background-color: #f0f8ff;border: 1px dotted black;border-radius: 0.25em;box-sizing: border-box;margin-bottom: 0.5em;}#sk-container-id-2 div.sk-estimator:hover {background-color: #d4ebff;}#sk-container-id-2 div.sk-parallel-item::after {content: \"\";width: 100%;border-bottom: 1px solid gray;flex-grow: 1;}#sk-container-id-2 div.sk-label:hover label.sk-toggleable__label {background-color: #d4ebff;}#sk-container-id-2 div.sk-serial::before {content: \"\";position: absolute;border-left: 1px solid gray;box-sizing: border-box;top: 0;bottom: 0;left: 50%;z-index: 0;}#sk-container-id-2 div.sk-serial {display: flex;flex-direction: column;align-items: center;background-color: white;padding-right: 0.2em;padding-left: 0.2em;position: relative;}#sk-container-id-2 div.sk-item {position: relative;z-index: 1;}#sk-container-id-2 div.sk-parallel {display: flex;align-items: stretch;justify-content: center;background-color: white;position: relative;}#sk-container-id-2 div.sk-item::before, #sk-container-id-2 div.sk-parallel-item::before {content: \"\";position: absolute;border-left: 1px solid gray;box-sizing: border-box;top: 0;bottom: 0;left: 50%;z-index: -1;}#sk-container-id-2 div.sk-parallel-item {display: flex;flex-direction: column;z-index: 1;position: relative;background-color: white;}#sk-container-id-2 div.sk-parallel-item:first-child::after {align-self: flex-end;width: 50%;}#sk-container-id-2 div.sk-parallel-item:last-child::after {align-self: flex-start;width: 50%;}#sk-container-id-2 div.sk-parallel-item:only-child::after {width: 0;}#sk-container-id-2 div.sk-dashed-wrapped {border: 1px dashed gray;margin: 0 0.4em 0.5em 0.4em;box-sizing: border-box;padding-bottom: 0.4em;background-color: white;}#sk-container-id-2 div.sk-label label {font-family: monospace;font-weight: bold;display: inline-block;line-height: 1.2em;}#sk-container-id-2 div.sk-label-container {text-align: center;}#sk-container-id-2 div.sk-container {/* jupyter's `normalize.less` sets `[hidden] { display: none; }` but bootstrap.min.css set `[hidden] { display: none !important; }` so we also need the `!important` here to be able to override the default hidden behavior on the sphinx rendered scikit-learn.org. See: https://github.com/scikit-learn/scikit-learn/issues/21755 */display: inline-block !important;position: relative;}#sk-container-id-2 div.sk-text-repr-fallback {display: none;}</style><div id=\"sk-container-id-2\" class=\"sk-top-container\"><div class=\"sk-text-repr-fallback\"><pre>LinearSVC()</pre><b>In a Jupyter environment, please rerun this cell to show the HTML representation or trust the notebook. <br />On GitHub, the HTML representation is unable to render, please try loading this page with nbviewer.org.</b></div><div class=\"sk-container\" hidden><div class=\"sk-item\"><div class=\"sk-estimator sk-toggleable\"><input class=\"sk-toggleable__control sk-hidden--visually\" id=\"sk-estimator-id-2\" type=\"checkbox\" checked><label for=\"sk-estimator-id-2\" class=\"sk-toggleable__label sk-toggleable__label-arrow\">LinearSVC</label><div class=\"sk-toggleable__content\"><pre>LinearSVC()</pre></div></div></div></div></div>"
      ],
      "text/plain": [
       "LinearSVC()"
      ]
     },
     "execution_count": 65,
     "metadata": {},
     "output_type": "execute_result"
    }
   ],
   "source": [
    "lr = LinearSVC()\n",
    "lr.fit(X_train, y_train)\n"
   ]
  },
  {
   "cell_type": "code",
   "execution_count": 66,
   "metadata": {},
   "outputs": [],
   "source": [
    "pred = lr.predict(X_test)\n",
    "\n",
    "y_pred = np.round(pred)"
   ]
  },
  {
   "cell_type": "code",
   "execution_count": 67,
   "metadata": {},
   "outputs": [
    {
     "data": {
      "text/plain": [
       "array([1, 5, 5, 1, 5, 5, 5, 5, 1, 1, 1, 1, 1, 5, 5, 1, 1, 1, 1, 5, 1, 1,\n",
       "       1, 1, 1, 1, 1, 1, 5, 1, 5, 1, 1, 1, 5, 5, 1, 1, 5, 5, 1, 5, 1, 5,\n",
       "       5, 5, 1, 1, 5, 1, 5, 5, 1, 5, 1, 5, 5, 5, 1, 5, 5, 5, 1, 1, 5, 5,\n",
       "       5, 1, 1, 1, 1, 5, 1])"
      ]
     },
     "execution_count": 67,
     "metadata": {},
     "output_type": "execute_result"
    }
   ],
   "source": [
    "y_pred"
   ]
  },
  {
   "cell_type": "code",
   "execution_count": 68,
   "metadata": {},
   "outputs": [
    {
     "name": "stdout",
     "output_type": "stream",
     "text": [
      "Mean Absolute Error: 0.0\n",
      "Mean Squared Error: 0.0\n",
      "R2 Score(Accuracy): 1.0\n"
     ]
    }
   ],
   "source": [
    "mae = mean_absolute_error(y_test, y_pred)\n",
    "mse = mean_squared_error(y_test, y_pred)\n",
    "r2 = r2_score(y_test, y_pred)\n",
    "\n",
    "print(f'Mean Absolute Error: {mae}')\n",
    "print(f'Mean Squared Error: {mse}')\n",
    "print(f'R2 Score(Accuracy): {r2}')\n"
   ]
  }
 ],
 "metadata": {
  "kernelspec": {
   "display_name": "Python 3 (ipykernel)",
   "language": "python",
   "name": "python3"
  },
  "language_info": {
   "codemirror_mode": {
    "name": "ipython",
    "version": 3
   },
   "file_extension": ".py",
   "mimetype": "text/x-python",
   "name": "python",
   "nbconvert_exporter": "python",
   "pygments_lexer": "ipython3",
   "version": "3.10.4"
  }
 },
 "nbformat": 4,
 "nbformat_minor": 5
}
