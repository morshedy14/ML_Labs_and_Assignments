{
 "cells": [
  {
   "cell_type": "code",
   "execution_count": 34,
   "metadata": {},
   "outputs": [],
   "source": [
    "import pandas as pd\n",
    "from sklearn import preprocessing\n",
    "from sklearn.model_selection import train_test_split\n",
    "from keras.models import Sequential\n",
    "from keras.layers import Dense #makes summation, activation\n",
    "import matplotlib.pyplot as plt\n",
    "from keras.layers import Dropout\n",
    "from keras import regularizers\n",
    "from sklearn.linear_model import LogisticRegression\n",
    "from sklearn.metrics import accuracy_score"
   ]
  },
  {
   "cell_type": "code",
   "execution_count": 35,
   "metadata": {},
   "outputs": [
    {
     "data": {
      "text/html": [
       "<div>\n",
       "<style scoped>\n",
       "    .dataframe tbody tr th:only-of-type {\n",
       "        vertical-align: middle;\n",
       "    }\n",
       "\n",
       "    .dataframe tbody tr th {\n",
       "        vertical-align: top;\n",
       "    }\n",
       "\n",
       "    .dataframe thead th {\n",
       "        text-align: right;\n",
       "    }\n",
       "</style>\n",
       "<table border=\"1\" class=\"dataframe\">\n",
       "  <thead>\n",
       "    <tr style=\"text-align: right;\">\n",
       "      <th></th>\n",
       "      <th>age</th>\n",
       "      <th>sex</th>\n",
       "      <th>cp</th>\n",
       "      <th>trestbps</th>\n",
       "      <th>chol</th>\n",
       "      <th>fbs</th>\n",
       "      <th>restecg</th>\n",
       "      <th>thalach</th>\n",
       "      <th>exang</th>\n",
       "      <th>oldpeak</th>\n",
       "      <th>slope</th>\n",
       "      <th>ca</th>\n",
       "      <th>thal</th>\n",
       "      <th>target</th>\n",
       "    </tr>\n",
       "  </thead>\n",
       "  <tbody>\n",
       "    <tr>\n",
       "      <th>0</th>\n",
       "      <td>63</td>\n",
       "      <td>1</td>\n",
       "      <td>3</td>\n",
       "      <td>145</td>\n",
       "      <td>233</td>\n",
       "      <td>1</td>\n",
       "      <td>0</td>\n",
       "      <td>150</td>\n",
       "      <td>0</td>\n",
       "      <td>2.3</td>\n",
       "      <td>0</td>\n",
       "      <td>0</td>\n",
       "      <td>1</td>\n",
       "      <td>1</td>\n",
       "    </tr>\n",
       "    <tr>\n",
       "      <th>1</th>\n",
       "      <td>37</td>\n",
       "      <td>1</td>\n",
       "      <td>2</td>\n",
       "      <td>130</td>\n",
       "      <td>250</td>\n",
       "      <td>0</td>\n",
       "      <td>1</td>\n",
       "      <td>187</td>\n",
       "      <td>0</td>\n",
       "      <td>3.5</td>\n",
       "      <td>0</td>\n",
       "      <td>0</td>\n",
       "      <td>2</td>\n",
       "      <td>1</td>\n",
       "    </tr>\n",
       "    <tr>\n",
       "      <th>2</th>\n",
       "      <td>41</td>\n",
       "      <td>0</td>\n",
       "      <td>1</td>\n",
       "      <td>130</td>\n",
       "      <td>204</td>\n",
       "      <td>0</td>\n",
       "      <td>0</td>\n",
       "      <td>172</td>\n",
       "      <td>0</td>\n",
       "      <td>1.4</td>\n",
       "      <td>2</td>\n",
       "      <td>0</td>\n",
       "      <td>2</td>\n",
       "      <td>1</td>\n",
       "    </tr>\n",
       "    <tr>\n",
       "      <th>3</th>\n",
       "      <td>56</td>\n",
       "      <td>1</td>\n",
       "      <td>1</td>\n",
       "      <td>120</td>\n",
       "      <td>236</td>\n",
       "      <td>0</td>\n",
       "      <td>1</td>\n",
       "      <td>178</td>\n",
       "      <td>0</td>\n",
       "      <td>0.8</td>\n",
       "      <td>2</td>\n",
       "      <td>0</td>\n",
       "      <td>2</td>\n",
       "      <td>1</td>\n",
       "    </tr>\n",
       "    <tr>\n",
       "      <th>4</th>\n",
       "      <td>57</td>\n",
       "      <td>0</td>\n",
       "      <td>0</td>\n",
       "      <td>120</td>\n",
       "      <td>354</td>\n",
       "      <td>0</td>\n",
       "      <td>1</td>\n",
       "      <td>163</td>\n",
       "      <td>1</td>\n",
       "      <td>0.6</td>\n",
       "      <td>2</td>\n",
       "      <td>0</td>\n",
       "      <td>2</td>\n",
       "      <td>1</td>\n",
       "    </tr>\n",
       "  </tbody>\n",
       "</table>\n",
       "</div>"
      ],
      "text/plain": [
       "   age  sex  cp  trestbps  chol  fbs  restecg  thalach  exang  oldpeak  slope  \\\n",
       "0   63    1   3       145   233    1        0      150      0      2.3      0   \n",
       "1   37    1   2       130   250    0        1      187      0      3.5      0   \n",
       "2   41    0   1       130   204    0        0      172      0      1.4      2   \n",
       "3   56    1   1       120   236    0        1      178      0      0.8      2   \n",
       "4   57    0   0       120   354    0        1      163      1      0.6      2   \n",
       "\n",
       "   ca  thal  target  \n",
       "0   0     1       1  \n",
       "1   0     2       1  \n",
       "2   0     2       1  \n",
       "3   0     2       1  \n",
       "4   0     2       1  "
      ]
     },
     "execution_count": 35,
     "metadata": {},
     "output_type": "execute_result"
    }
   ],
   "source": [
    "# loadin the heart disease dataset\n",
    "df = pd.read_csv('heart.csv')\n",
    "df.head()\n"
   ]
  },
  {
   "cell_type": "code",
   "execution_count": 36,
   "metadata": {},
   "outputs": [
    {
     "data": {
      "text/plain": [
       "age         0\n",
       "sex         0\n",
       "cp          0\n",
       "trestbps    0\n",
       "chol        0\n",
       "fbs         0\n",
       "restecg     0\n",
       "thalach     0\n",
       "exang       0\n",
       "oldpeak     0\n",
       "slope       0\n",
       "ca          0\n",
       "thal        0\n",
       "target      0\n",
       "dtype: int64"
      ]
     },
     "execution_count": 36,
     "metadata": {},
     "output_type": "execute_result"
    }
   ],
   "source": [
    "# checking for missing values\n",
    "df.isna().sum()\n"
   ]
  },
  {
   "cell_type": "code",
   "execution_count": 37,
   "metadata": {},
   "outputs": [
    {
     "data": {
      "text/plain": [
       "1"
      ]
     },
     "execution_count": 37,
     "metadata": {},
     "output_type": "execute_result"
    }
   ],
   "source": [
    "# checking for duplicates\n",
    "df.duplicated().sum()"
   ]
  },
  {
   "cell_type": "code",
   "execution_count": 38,
   "metadata": {},
   "outputs": [
    {
     "data": {
      "text/html": [
       "<div>\n",
       "<style scoped>\n",
       "    .dataframe tbody tr th:only-of-type {\n",
       "        vertical-align: middle;\n",
       "    }\n",
       "\n",
       "    .dataframe tbody tr th {\n",
       "        vertical-align: top;\n",
       "    }\n",
       "\n",
       "    .dataframe thead th {\n",
       "        text-align: right;\n",
       "    }\n",
       "</style>\n",
       "<table border=\"1\" class=\"dataframe\">\n",
       "  <thead>\n",
       "    <tr style=\"text-align: right;\">\n",
       "      <th></th>\n",
       "      <th>age</th>\n",
       "      <th>sex</th>\n",
       "      <th>cp</th>\n",
       "      <th>trestbps</th>\n",
       "      <th>chol</th>\n",
       "      <th>fbs</th>\n",
       "      <th>restecg</th>\n",
       "      <th>thalach</th>\n",
       "      <th>exang</th>\n",
       "      <th>oldpeak</th>\n",
       "      <th>slope</th>\n",
       "      <th>ca</th>\n",
       "      <th>thal</th>\n",
       "      <th>target</th>\n",
       "    </tr>\n",
       "  </thead>\n",
       "  <tbody>\n",
       "    <tr>\n",
       "      <th>164</th>\n",
       "      <td>38</td>\n",
       "      <td>1</td>\n",
       "      <td>2</td>\n",
       "      <td>138</td>\n",
       "      <td>175</td>\n",
       "      <td>0</td>\n",
       "      <td>1</td>\n",
       "      <td>173</td>\n",
       "      <td>0</td>\n",
       "      <td>0.0</td>\n",
       "      <td>2</td>\n",
       "      <td>4</td>\n",
       "      <td>2</td>\n",
       "      <td>1</td>\n",
       "    </tr>\n",
       "  </tbody>\n",
       "</table>\n",
       "</div>"
      ],
      "text/plain": [
       "     age  sex  cp  trestbps  chol  fbs  restecg  thalach  exang  oldpeak  \\\n",
       "164   38    1   2       138   175    0        1      173      0      0.0   \n",
       "\n",
       "     slope  ca  thal  target  \n",
       "164      2   4     2       1  "
      ]
     },
     "execution_count": 38,
     "metadata": {},
     "output_type": "execute_result"
    }
   ],
   "source": [
    "# dropping duplicates\n",
    "df.loc[df.duplicated()]"
   ]
  },
  {
   "cell_type": "code",
   "execution_count": 39,
   "metadata": {},
   "outputs": [],
   "source": [
    "# dropping duplicates\n",
    "df = df.loc[~df.duplicated()].copy(deep = True)\n"
   ]
  },
  {
   "cell_type": "markdown",
   "metadata": {},
   "source": [
    "**PreProcessing**"
   ]
  },
  {
   "cell_type": "code",
   "execution_count": 40,
   "metadata": {},
   "outputs": [],
   "source": [
    "# processing the data by splitting it into features and target\n",
    "X = df.drop('target' ,axis = 1)\n",
    "y = df['target']"
   ]
  },
  {
   "cell_type": "code",
   "execution_count": 41,
   "metadata": {},
   "outputs": [],
   "source": [
    "# splitting the data into train and test sets\n",
    "X_train, X_test, y_train, y_test = train_test_split(X, y, test_size=0.2, random_state=42,shuffle=True)"
   ]
  },
  {
   "cell_type": "code",
   "execution_count": 42,
   "metadata": {},
   "outputs": [],
   "source": [
    "# scaling the data\n",
    "scalar = preprocessing.StandardScaler()\n",
    "X_train = scalar.fit_transform(X_train)\n",
    "X_test = scalar.fit_transform(X_test)"
   ]
  },
  {
   "cell_type": "markdown",
   "metadata": {},
   "source": [
    "#### Logistic Regression \n"
   ]
  },
  {
   "cell_type": "code",
   "execution_count": 43,
   "metadata": {},
   "outputs": [],
   "source": [
    "# building the logistic regression model\n",
    "log_model = LogisticRegression(penalty='l2')"
   ]
  },
  {
   "cell_type": "code",
   "execution_count": 44,
   "metadata": {},
   "outputs": [
    {
     "data": {
      "text/html": [
       "<style>#sk-container-id-2 {color: black;}#sk-container-id-2 pre{padding: 0;}#sk-container-id-2 div.sk-toggleable {background-color: white;}#sk-container-id-2 label.sk-toggleable__label {cursor: pointer;display: block;width: 100%;margin-bottom: 0;padding: 0.3em;box-sizing: border-box;text-align: center;}#sk-container-id-2 label.sk-toggleable__label-arrow:before {content: \"▸\";float: left;margin-right: 0.25em;color: #696969;}#sk-container-id-2 label.sk-toggleable__label-arrow:hover:before {color: black;}#sk-container-id-2 div.sk-estimator:hover label.sk-toggleable__label-arrow:before {color: black;}#sk-container-id-2 div.sk-toggleable__content {max-height: 0;max-width: 0;overflow: hidden;text-align: left;background-color: #f0f8ff;}#sk-container-id-2 div.sk-toggleable__content pre {margin: 0.2em;color: black;border-radius: 0.25em;background-color: #f0f8ff;}#sk-container-id-2 input.sk-toggleable__control:checked~div.sk-toggleable__content {max-height: 200px;max-width: 100%;overflow: auto;}#sk-container-id-2 input.sk-toggleable__control:checked~label.sk-toggleable__label-arrow:before {content: \"▾\";}#sk-container-id-2 div.sk-estimator input.sk-toggleable__control:checked~label.sk-toggleable__label {background-color: #d4ebff;}#sk-container-id-2 div.sk-label input.sk-toggleable__control:checked~label.sk-toggleable__label {background-color: #d4ebff;}#sk-container-id-2 input.sk-hidden--visually {border: 0;clip: rect(1px 1px 1px 1px);clip: rect(1px, 1px, 1px, 1px);height: 1px;margin: -1px;overflow: hidden;padding: 0;position: absolute;width: 1px;}#sk-container-id-2 div.sk-estimator {font-family: monospace;background-color: #f0f8ff;border: 1px dotted black;border-radius: 0.25em;box-sizing: border-box;margin-bottom: 0.5em;}#sk-container-id-2 div.sk-estimator:hover {background-color: #d4ebff;}#sk-container-id-2 div.sk-parallel-item::after {content: \"\";width: 100%;border-bottom: 1px solid gray;flex-grow: 1;}#sk-container-id-2 div.sk-label:hover label.sk-toggleable__label {background-color: #d4ebff;}#sk-container-id-2 div.sk-serial::before {content: \"\";position: absolute;border-left: 1px solid gray;box-sizing: border-box;top: 0;bottom: 0;left: 50%;z-index: 0;}#sk-container-id-2 div.sk-serial {display: flex;flex-direction: column;align-items: center;background-color: white;padding-right: 0.2em;padding-left: 0.2em;position: relative;}#sk-container-id-2 div.sk-item {position: relative;z-index: 1;}#sk-container-id-2 div.sk-parallel {display: flex;align-items: stretch;justify-content: center;background-color: white;position: relative;}#sk-container-id-2 div.sk-item::before, #sk-container-id-2 div.sk-parallel-item::before {content: \"\";position: absolute;border-left: 1px solid gray;box-sizing: border-box;top: 0;bottom: 0;left: 50%;z-index: -1;}#sk-container-id-2 div.sk-parallel-item {display: flex;flex-direction: column;z-index: 1;position: relative;background-color: white;}#sk-container-id-2 div.sk-parallel-item:first-child::after {align-self: flex-end;width: 50%;}#sk-container-id-2 div.sk-parallel-item:last-child::after {align-self: flex-start;width: 50%;}#sk-container-id-2 div.sk-parallel-item:only-child::after {width: 0;}#sk-container-id-2 div.sk-dashed-wrapped {border: 1px dashed gray;margin: 0 0.4em 0.5em 0.4em;box-sizing: border-box;padding-bottom: 0.4em;background-color: white;}#sk-container-id-2 div.sk-label label {font-family: monospace;font-weight: bold;display: inline-block;line-height: 1.2em;}#sk-container-id-2 div.sk-label-container {text-align: center;}#sk-container-id-2 div.sk-container {/* jupyter's `normalize.less` sets `[hidden] { display: none; }` but bootstrap.min.css set `[hidden] { display: none !important; }` so we also need the `!important` here to be able to override the default hidden behavior on the sphinx rendered scikit-learn.org. See: https://github.com/scikit-learn/scikit-learn/issues/21755 */display: inline-block !important;position: relative;}#sk-container-id-2 div.sk-text-repr-fallback {display: none;}</style><div id=\"sk-container-id-2\" class=\"sk-top-container\"><div class=\"sk-text-repr-fallback\"><pre>LogisticRegression()</pre><b>In a Jupyter environment, please rerun this cell to show the HTML representation or trust the notebook. <br />On GitHub, the HTML representation is unable to render, please try loading this page with nbviewer.org.</b></div><div class=\"sk-container\" hidden><div class=\"sk-item\"><div class=\"sk-estimator sk-toggleable\"><input class=\"sk-toggleable__control sk-hidden--visually\" id=\"sk-estimator-id-2\" type=\"checkbox\" checked><label for=\"sk-estimator-id-2\" class=\"sk-toggleable__label sk-toggleable__label-arrow\">LogisticRegression</label><div class=\"sk-toggleable__content\"><pre>LogisticRegression()</pre></div></div></div></div></div>"
      ],
      "text/plain": [
       "LogisticRegression()"
      ]
     },
     "execution_count": 44,
     "metadata": {},
     "output_type": "execute_result"
    }
   ],
   "source": [
    "# fitting the model to the training data\n",
    "log_model.fit(X_train,y_train)"
   ]
  },
  {
   "cell_type": "code",
   "execution_count": 45,
   "metadata": {},
   "outputs": [],
   "source": [
    "yhat = log_model.predict(X_test)\n"
   ]
  },
  {
   "cell_type": "code",
   "execution_count": 46,
   "metadata": {},
   "outputs": [
    {
     "name": "stdout",
     "output_type": "stream",
     "text": [
      "model accuracy: 0.8688524590163934\n"
     ]
    }
   ],
   "source": [
    "accuracy = accuracy_score(yhat,y_test)\n",
    "print(f\"model accuracy: {accuracy}\")"
   ]
  },
  {
   "cell_type": "markdown",
   "metadata": {},
   "source": [
    "#### Neural Network"
   ]
  },
  {
   "cell_type": "code",
   "execution_count": 47,
   "metadata": {},
   "outputs": [],
   "source": [
    "\n",
    "X = df.drop('target' ,axis = 1)\n",
    "y = df['target']"
   ]
  },
  {
   "cell_type": "code",
   "execution_count": 48,
   "metadata": {},
   "outputs": [],
   "source": [
    "X_scale = scalar.fit_transform(X)"
   ]
  },
  {
   "cell_type": "code",
   "execution_count": 49,
   "metadata": {},
   "outputs": [],
   "source": [
    "# splitting the data into train and validation and test sets\n",
    "X_train, X_val_and_test, Y_train, Y_val_and_test = train_test_split(X_scale, y, test_size=0.3, random_state=1)\n",
    "X_val, X_test, Y_val, Y_test = train_test_split(X_val_and_test, Y_val_and_test, test_size=0.5, random_state=1)"
   ]
  },
  {
   "cell_type": "code",
   "execution_count": 50,
   "metadata": {},
   "outputs": [],
   "source": [
    "model = Sequential([\n",
    "    Dense(10, activation='relu', input_shape=(X.shape[1],)), #vector\n",
    "    Dense(5, activation='relu'),\n",
    "    Dense(1, activation='sigmoid'),\n",
    "])"
   ]
  },
  {
   "cell_type": "code",
   "execution_count": 51,
   "metadata": {},
   "outputs": [],
   "source": [
    "model.compile(optimizer='sgd',\n",
    "              loss='binary_crossentropy',\n",
    "              metrics=['accuracy'])"
   ]
  },
  {
   "cell_type": "code",
   "execution_count": 52,
   "metadata": {},
   "outputs": [
    {
     "name": "stdout",
     "output_type": "stream",
     "text": [
      "Epoch 1/100\n"
     ]
    },
    {
     "name": "stdout",
     "output_type": "stream",
     "text": [
      "7/7 [==============================] - 1s 35ms/step - loss: 0.7515 - accuracy: 0.4550 - val_loss: 0.7309 - val_accuracy: 0.4889\n",
      "Epoch 2/100\n",
      "7/7 [==============================] - 0s 10ms/step - loss: 0.7420 - accuracy: 0.4739 - val_loss: 0.7209 - val_accuracy: 0.5111\n",
      "Epoch 3/100\n",
      "7/7 [==============================] - 0s 15ms/step - loss: 0.7335 - accuracy: 0.4739 - val_loss: 0.7115 - val_accuracy: 0.5333\n",
      "Epoch 4/100\n",
      "7/7 [==============================] - 0s 13ms/step - loss: 0.7253 - accuracy: 0.4739 - val_loss: 0.7032 - val_accuracy: 0.5556\n",
      "Epoch 5/100\n",
      "7/7 [==============================] - 0s 13ms/step - loss: 0.7179 - accuracy: 0.4834 - val_loss: 0.6953 - val_accuracy: 0.5333\n",
      "Epoch 6/100\n",
      "7/7 [==============================] - 0s 12ms/step - loss: 0.7108 - accuracy: 0.4929 - val_loss: 0.6884 - val_accuracy: 0.5333\n",
      "Epoch 7/100\n",
      "7/7 [==============================] - 0s 13ms/step - loss: 0.7045 - accuracy: 0.4882 - val_loss: 0.6819 - val_accuracy: 0.5333\n",
      "Epoch 8/100\n",
      "7/7 [==============================] - 0s 12ms/step - loss: 0.6987 - accuracy: 0.5024 - val_loss: 0.6756 - val_accuracy: 0.5556\n",
      "Epoch 9/100\n",
      "7/7 [==============================] - 0s 10ms/step - loss: 0.6927 - accuracy: 0.5213 - val_loss: 0.6695 - val_accuracy: 0.5778\n",
      "Epoch 10/100\n",
      "7/7 [==============================] - 0s 8ms/step - loss: 0.6872 - accuracy: 0.5118 - val_loss: 0.6637 - val_accuracy: 0.5778\n",
      "Epoch 11/100\n",
      "7/7 [==============================] - 0s 8ms/step - loss: 0.6817 - accuracy: 0.5261 - val_loss: 0.6581 - val_accuracy: 0.5778\n",
      "Epoch 12/100\n",
      "7/7 [==============================] - 0s 8ms/step - loss: 0.6767 - accuracy: 0.5403 - val_loss: 0.6525 - val_accuracy: 0.6000\n",
      "Epoch 13/100\n",
      "7/7 [==============================] - 0s 8ms/step - loss: 0.6719 - accuracy: 0.5450 - val_loss: 0.6475 - val_accuracy: 0.6222\n",
      "Epoch 14/100\n",
      "7/7 [==============================] - 0s 9ms/step - loss: 0.6673 - accuracy: 0.5592 - val_loss: 0.6426 - val_accuracy: 0.6444\n",
      "Epoch 15/100\n",
      "7/7 [==============================] - 0s 13ms/step - loss: 0.6627 - accuracy: 0.5735 - val_loss: 0.6382 - val_accuracy: 0.6444\n",
      "Epoch 16/100\n",
      "7/7 [==============================] - 0s 14ms/step - loss: 0.6581 - accuracy: 0.5924 - val_loss: 0.6334 - val_accuracy: 0.6667\n",
      "Epoch 17/100\n",
      "7/7 [==============================] - 0s 16ms/step - loss: 0.6532 - accuracy: 0.5924 - val_loss: 0.6289 - val_accuracy: 0.6667\n",
      "Epoch 18/100\n",
      "7/7 [==============================] - 0s 14ms/step - loss: 0.6484 - accuracy: 0.6066 - val_loss: 0.6239 - val_accuracy: 0.7111\n",
      "Epoch 19/100\n",
      "7/7 [==============================] - 0s 14ms/step - loss: 0.6434 - accuracy: 0.6114 - val_loss: 0.6195 - val_accuracy: 0.7111\n",
      "Epoch 20/100\n",
      "7/7 [==============================] - 0s 9ms/step - loss: 0.6382 - accuracy: 0.6209 - val_loss: 0.6148 - val_accuracy: 0.7111\n",
      "Epoch 21/100\n",
      "7/7 [==============================] - 0s 9ms/step - loss: 0.6333 - accuracy: 0.6398 - val_loss: 0.6098 - val_accuracy: 0.7111\n",
      "Epoch 22/100\n",
      "7/7 [==============================] - 0s 14ms/step - loss: 0.6281 - accuracy: 0.6540 - val_loss: 0.6053 - val_accuracy: 0.7333\n",
      "Epoch 23/100\n",
      "7/7 [==============================] - 0s 14ms/step - loss: 0.6229 - accuracy: 0.6777 - val_loss: 0.6008 - val_accuracy: 0.7333\n",
      "Epoch 24/100\n",
      "7/7 [==============================] - 0s 14ms/step - loss: 0.6179 - accuracy: 0.7062 - val_loss: 0.5964 - val_accuracy: 0.7333\n",
      "Epoch 25/100\n",
      "7/7 [==============================] - 0s 11ms/step - loss: 0.6129 - accuracy: 0.7156 - val_loss: 0.5915 - val_accuracy: 0.7556\n",
      "Epoch 26/100\n",
      "7/7 [==============================] - 0s 8ms/step - loss: 0.6077 - accuracy: 0.7251 - val_loss: 0.5872 - val_accuracy: 0.7778\n",
      "Epoch 27/100\n",
      "7/7 [==============================] - 0s 8ms/step - loss: 0.6028 - accuracy: 0.7299 - val_loss: 0.5826 - val_accuracy: 0.7778\n",
      "Epoch 28/100\n",
      "7/7 [==============================] - 0s 8ms/step - loss: 0.5969 - accuracy: 0.7393 - val_loss: 0.5777 - val_accuracy: 0.7778\n",
      "Epoch 29/100\n",
      "7/7 [==============================] - 0s 9ms/step - loss: 0.5915 - accuracy: 0.7441 - val_loss: 0.5729 - val_accuracy: 0.7778\n",
      "Epoch 30/100\n",
      "7/7 [==============================] - 0s 14ms/step - loss: 0.5861 - accuracy: 0.7583 - val_loss: 0.5682 - val_accuracy: 0.8000\n",
      "Epoch 31/100\n",
      "7/7 [==============================] - 0s 16ms/step - loss: 0.5806 - accuracy: 0.7583 - val_loss: 0.5638 - val_accuracy: 0.8000\n",
      "Epoch 32/100\n",
      "7/7 [==============================] - 0s 11ms/step - loss: 0.5755 - accuracy: 0.7630 - val_loss: 0.5590 - val_accuracy: 0.8222\n",
      "Epoch 33/100\n",
      "7/7 [==============================] - 0s 12ms/step - loss: 0.5704 - accuracy: 0.7725 - val_loss: 0.5542 - val_accuracy: 0.8222\n",
      "Epoch 34/100\n",
      "7/7 [==============================] - 0s 14ms/step - loss: 0.5649 - accuracy: 0.7773 - val_loss: 0.5496 - val_accuracy: 0.8222\n",
      "Epoch 35/100\n",
      "7/7 [==============================] - 0s 14ms/step - loss: 0.5598 - accuracy: 0.7773 - val_loss: 0.5445 - val_accuracy: 0.8222\n",
      "Epoch 36/100\n",
      "7/7 [==============================] - 0s 14ms/step - loss: 0.5543 - accuracy: 0.7820 - val_loss: 0.5397 - val_accuracy: 0.8222\n",
      "Epoch 37/100\n",
      "7/7 [==============================] - 0s 11ms/step - loss: 0.5492 - accuracy: 0.7867 - val_loss: 0.5351 - val_accuracy: 0.8222\n",
      "Epoch 38/100\n",
      "7/7 [==============================] - 0s 13ms/step - loss: 0.5441 - accuracy: 0.7915 - val_loss: 0.5304 - val_accuracy: 0.8444\n",
      "Epoch 39/100\n",
      "7/7 [==============================] - 0s 9ms/step - loss: 0.5387 - accuracy: 0.8009 - val_loss: 0.5255 - val_accuracy: 0.8444\n",
      "Epoch 40/100\n",
      "7/7 [==============================] - 0s 9ms/step - loss: 0.5336 - accuracy: 0.8104 - val_loss: 0.5209 - val_accuracy: 0.8444\n",
      "Epoch 41/100\n",
      "7/7 [==============================] - 0s 14ms/step - loss: 0.5285 - accuracy: 0.8057 - val_loss: 0.5157 - val_accuracy: 0.8444\n",
      "Epoch 42/100\n",
      "7/7 [==============================] - 0s 12ms/step - loss: 0.5234 - accuracy: 0.8104 - val_loss: 0.5107 - val_accuracy: 0.8222\n",
      "Epoch 43/100\n",
      "7/7 [==============================] - 0s 12ms/step - loss: 0.5187 - accuracy: 0.8104 - val_loss: 0.5062 - val_accuracy: 0.8222\n",
      "Epoch 44/100\n",
      "7/7 [==============================] - 0s 14ms/step - loss: 0.5135 - accuracy: 0.8152 - val_loss: 0.5016 - val_accuracy: 0.8222\n",
      "Epoch 45/100\n",
      "7/7 [==============================] - 0s 13ms/step - loss: 0.5086 - accuracy: 0.8152 - val_loss: 0.4971 - val_accuracy: 0.8222\n",
      "Epoch 46/100\n",
      "7/7 [==============================] - 0s 10ms/step - loss: 0.5039 - accuracy: 0.8152 - val_loss: 0.4928 - val_accuracy: 0.8222\n",
      "Epoch 47/100\n",
      "7/7 [==============================] - 0s 9ms/step - loss: 0.4991 - accuracy: 0.8152 - val_loss: 0.4887 - val_accuracy: 0.8222\n",
      "Epoch 48/100\n",
      "7/7 [==============================] - 0s 10ms/step - loss: 0.4944 - accuracy: 0.8294 - val_loss: 0.4843 - val_accuracy: 0.8222\n",
      "Epoch 49/100\n",
      "7/7 [==============================] - 0s 10ms/step - loss: 0.4898 - accuracy: 0.8199 - val_loss: 0.4804 - val_accuracy: 0.8222\n",
      "Epoch 50/100\n",
      "7/7 [==============================] - 0s 10ms/step - loss: 0.4851 - accuracy: 0.8199 - val_loss: 0.4762 - val_accuracy: 0.8222\n",
      "Epoch 51/100\n",
      "7/7 [==============================] - 0s 18ms/step - loss: 0.4805 - accuracy: 0.8246 - val_loss: 0.4722 - val_accuracy: 0.8222\n",
      "Epoch 52/100\n",
      "7/7 [==============================] - 0s 16ms/step - loss: 0.4759 - accuracy: 0.8246 - val_loss: 0.4685 - val_accuracy: 0.8222\n",
      "Epoch 53/100\n",
      "7/7 [==============================] - 0s 13ms/step - loss: 0.4714 - accuracy: 0.8294 - val_loss: 0.4650 - val_accuracy: 0.8222\n",
      "Epoch 54/100\n",
      "7/7 [==============================] - 0s 12ms/step - loss: 0.4669 - accuracy: 0.8294 - val_loss: 0.4617 - val_accuracy: 0.8222\n",
      "Epoch 55/100\n",
      "7/7 [==============================] - 0s 8ms/step - loss: 0.4627 - accuracy: 0.8294 - val_loss: 0.4583 - val_accuracy: 0.8222\n",
      "Epoch 56/100\n",
      "7/7 [==============================] - 0s 10ms/step - loss: 0.4582 - accuracy: 0.8246 - val_loss: 0.4552 - val_accuracy: 0.8222\n",
      "Epoch 57/100\n",
      "7/7 [==============================] - 0s 14ms/step - loss: 0.4541 - accuracy: 0.8246 - val_loss: 0.4520 - val_accuracy: 0.8222\n",
      "Epoch 58/100\n",
      "7/7 [==============================] - 0s 12ms/step - loss: 0.4500 - accuracy: 0.8246 - val_loss: 0.4486 - val_accuracy: 0.8222\n",
      "Epoch 59/100\n",
      "7/7 [==============================] - 0s 13ms/step - loss: 0.4461 - accuracy: 0.8246 - val_loss: 0.4455 - val_accuracy: 0.8222\n",
      "Epoch 60/100\n",
      "7/7 [==============================] - 0s 9ms/step - loss: 0.4423 - accuracy: 0.8246 - val_loss: 0.4427 - val_accuracy: 0.8222\n",
      "Epoch 61/100\n",
      "7/7 [==============================] - 0s 12ms/step - loss: 0.4387 - accuracy: 0.8246 - val_loss: 0.4396 - val_accuracy: 0.8222\n",
      "Epoch 62/100\n",
      "7/7 [==============================] - 0s 9ms/step - loss: 0.4348 - accuracy: 0.8246 - val_loss: 0.4367 - val_accuracy: 0.8222\n",
      "Epoch 63/100\n",
      "7/7 [==============================] - 0s 8ms/step - loss: 0.4313 - accuracy: 0.8246 - val_loss: 0.4342 - val_accuracy: 0.8222\n",
      "Epoch 64/100\n",
      "7/7 [==============================] - 0s 14ms/step - loss: 0.4276 - accuracy: 0.8246 - val_loss: 0.4316 - val_accuracy: 0.8222\n",
      "Epoch 65/100\n",
      "7/7 [==============================] - 0s 13ms/step - loss: 0.4243 - accuracy: 0.8199 - val_loss: 0.4291 - val_accuracy: 0.8222\n",
      "Epoch 66/100\n",
      "7/7 [==============================] - 0s 15ms/step - loss: 0.4210 - accuracy: 0.8199 - val_loss: 0.4269 - val_accuracy: 0.8222\n",
      "Epoch 67/100\n",
      "7/7 [==============================] - 0s 14ms/step - loss: 0.4178 - accuracy: 0.8199 - val_loss: 0.4245 - val_accuracy: 0.8222\n",
      "Epoch 68/100\n",
      "7/7 [==============================] - 0s 13ms/step - loss: 0.4149 - accuracy: 0.8246 - val_loss: 0.4219 - val_accuracy: 0.8444\n",
      "Epoch 69/100\n",
      "7/7 [==============================] - 0s 14ms/step - loss: 0.4119 - accuracy: 0.8246 - val_loss: 0.4199 - val_accuracy: 0.8444\n",
      "Epoch 70/100\n",
      "7/7 [==============================] - 0s 12ms/step - loss: 0.4089 - accuracy: 0.8246 - val_loss: 0.4182 - val_accuracy: 0.8444\n",
      "Epoch 71/100\n",
      "7/7 [==============================] - 0s 12ms/step - loss: 0.4059 - accuracy: 0.8246 - val_loss: 0.4166 - val_accuracy: 0.8444\n",
      "Epoch 72/100\n",
      "7/7 [==============================] - 0s 9ms/step - loss: 0.4029 - accuracy: 0.8341 - val_loss: 0.4149 - val_accuracy: 0.8444\n",
      "Epoch 73/100\n",
      "7/7 [==============================] - 0s 8ms/step - loss: 0.4002 - accuracy: 0.8341 - val_loss: 0.4131 - val_accuracy: 0.8444\n",
      "Epoch 74/100\n",
      "7/7 [==============================] - 0s 11ms/step - loss: 0.3976 - accuracy: 0.8341 - val_loss: 0.4113 - val_accuracy: 0.8444\n",
      "Epoch 75/100\n",
      "7/7 [==============================] - 0s 12ms/step - loss: 0.3949 - accuracy: 0.8341 - val_loss: 0.4097 - val_accuracy: 0.8444\n",
      "Epoch 76/100\n",
      "7/7 [==============================] - 0s 14ms/step - loss: 0.3923 - accuracy: 0.8341 - val_loss: 0.4081 - val_accuracy: 0.8444\n",
      "Epoch 77/100\n",
      "7/7 [==============================] - 0s 12ms/step - loss: 0.3898 - accuracy: 0.8341 - val_loss: 0.4063 - val_accuracy: 0.8444\n",
      "Epoch 78/100\n",
      "7/7 [==============================] - 0s 13ms/step - loss: 0.3873 - accuracy: 0.8341 - val_loss: 0.4048 - val_accuracy: 0.8444\n",
      "Epoch 79/100\n",
      "7/7 [==============================] - 0s 14ms/step - loss: 0.3850 - accuracy: 0.8341 - val_loss: 0.4033 - val_accuracy: 0.8444\n",
      "Epoch 80/100\n",
      "7/7 [==============================] - 0s 12ms/step - loss: 0.3826 - accuracy: 0.8341 - val_loss: 0.4017 - val_accuracy: 0.8444\n",
      "Epoch 81/100\n",
      "7/7 [==============================] - 0s 8ms/step - loss: 0.3803 - accuracy: 0.8341 - val_loss: 0.4006 - val_accuracy: 0.8444\n",
      "Epoch 82/100\n",
      "7/7 [==============================] - 0s 9ms/step - loss: 0.3783 - accuracy: 0.8341 - val_loss: 0.3995 - val_accuracy: 0.8444\n",
      "Epoch 83/100\n",
      "7/7 [==============================] - 0s 9ms/step - loss: 0.3760 - accuracy: 0.8341 - val_loss: 0.3981 - val_accuracy: 0.8444\n",
      "Epoch 84/100\n",
      "7/7 [==============================] - 0s 10ms/step - loss: 0.3738 - accuracy: 0.8341 - val_loss: 0.3971 - val_accuracy: 0.8444\n",
      "Epoch 85/100\n",
      "7/7 [==============================] - 0s 16ms/step - loss: 0.3719 - accuracy: 0.8341 - val_loss: 0.3963 - val_accuracy: 0.8444\n",
      "Epoch 86/100\n",
      "7/7 [==============================] - 0s 17ms/step - loss: 0.3698 - accuracy: 0.8341 - val_loss: 0.3955 - val_accuracy: 0.8444\n",
      "Epoch 87/100\n",
      "7/7 [==============================] - 0s 14ms/step - loss: 0.3678 - accuracy: 0.8341 - val_loss: 0.3946 - val_accuracy: 0.8444\n",
      "Epoch 88/100\n",
      "7/7 [==============================] - 0s 12ms/step - loss: 0.3658 - accuracy: 0.8389 - val_loss: 0.3944 - val_accuracy: 0.8444\n",
      "Epoch 89/100\n",
      "7/7 [==============================] - 0s 12ms/step - loss: 0.3642 - accuracy: 0.8341 - val_loss: 0.3939 - val_accuracy: 0.8444\n",
      "Epoch 90/100\n",
      "7/7 [==============================] - 0s 12ms/step - loss: 0.3621 - accuracy: 0.8341 - val_loss: 0.3932 - val_accuracy: 0.8444\n",
      "Epoch 91/100\n",
      "7/7 [==============================] - 0s 11ms/step - loss: 0.3605 - accuracy: 0.8436 - val_loss: 0.3927 - val_accuracy: 0.8444\n",
      "Epoch 92/100\n",
      "7/7 [==============================] - 0s 9ms/step - loss: 0.3585 - accuracy: 0.8341 - val_loss: 0.3916 - val_accuracy: 0.8444\n",
      "Epoch 93/100\n",
      "7/7 [==============================] - 0s 9ms/step - loss: 0.3565 - accuracy: 0.8436 - val_loss: 0.3912 - val_accuracy: 0.8444\n",
      "Epoch 94/100\n",
      "7/7 [==============================] - 0s 9ms/step - loss: 0.3548 - accuracy: 0.8436 - val_loss: 0.3910 - val_accuracy: 0.8444\n",
      "Epoch 95/100\n",
      "7/7 [==============================] - 0s 9ms/step - loss: 0.3529 - accuracy: 0.8483 - val_loss: 0.3913 - val_accuracy: 0.8444\n",
      "Epoch 96/100\n",
      "7/7 [==============================] - 0s 12ms/step - loss: 0.3510 - accuracy: 0.8483 - val_loss: 0.3905 - val_accuracy: 0.8444\n",
      "Epoch 97/100\n",
      "7/7 [==============================] - 0s 10ms/step - loss: 0.3493 - accuracy: 0.8483 - val_loss: 0.3903 - val_accuracy: 0.8444\n",
      "Epoch 98/100\n",
      "7/7 [==============================] - 0s 11ms/step - loss: 0.3475 - accuracy: 0.8483 - val_loss: 0.3893 - val_accuracy: 0.8444\n",
      "Epoch 99/100\n",
      "7/7 [==============================] - 0s 10ms/step - loss: 0.3457 - accuracy: 0.8483 - val_loss: 0.3890 - val_accuracy: 0.8444\n",
      "Epoch 100/100\n",
      "7/7 [==============================] - 0s 10ms/step - loss: 0.3441 - accuracy: 0.8483 - val_loss: 0.3888 - val_accuracy: 0.8444\n"
     ]
    }
   ],
   "source": [
    "hist = model.fit(X_train, Y_train,\n",
    "          batch_size=32,epochs=100,\n",
    "          validation_data=(X_val, Y_val))"
   ]
  },
  {
   "cell_type": "code",
   "execution_count": 53,
   "metadata": {},
   "outputs": [
    {
     "name": "stdout",
     "output_type": "stream",
     "text": [
      "2/2 [==============================] - 0s 9ms/step - loss: 0.5698 - accuracy: 0.6957\n"
     ]
    },
    {
     "data": {
      "text/plain": [
       "[0.5697587728500366, 0.695652186870575]"
      ]
     },
     "execution_count": 53,
     "metadata": {},
     "output_type": "execute_result"
    }
   ],
   "source": [
    "model.evaluate(X_test, Y_test)"
   ]
  },
  {
   "cell_type": "markdown",
   "metadata": {},
   "source": [
    "**Architcure_2**"
   ]
  },
  {
   "cell_type": "code",
   "execution_count": 54,
   "metadata": {},
   "outputs": [],
   "source": [
    "model_3 = Sequential([\n",
    "    Dense(25, activation='relu', kernel_regularizer=regularizers.l2(0.01), input_shape=(X.shape[1],)),\n",
    "    Dropout(0.3),\n",
    "    Dense(20, activation='relu', kernel_regularizer=regularizers.l2(0.01)),\n",
    "    Dropout(0.3),\n",
    "    Dense(15, activation='relu', kernel_regularizer=regularizers.l2(0.01)),\n",
    "    Dropout(0.3),\n",
    "    Dense(5, activation='relu', kernel_regularizer=regularizers.l2(0.01)),\n",
    "    Dropout(0.3),\n",
    "    Dense(1, activation='sigmoid', kernel_regularizer=regularizers.l2(0.01)),\n",
    "])"
   ]
  },
  {
   "cell_type": "code",
   "execution_count": 55,
   "metadata": {},
   "outputs": [
    {
     "name": "stdout",
     "output_type": "stream",
     "text": [
      "Epoch 1/50\n",
      "7/7 [==============================] - 2s 44ms/step - loss: 1.3706 - accuracy: 0.4739 - val_loss: 1.3685 - val_accuracy: 0.4889\n",
      "Epoch 2/50\n",
      "7/7 [==============================] - 0s 10ms/step - loss: 1.3749 - accuracy: 0.4787 - val_loss: 1.3492 - val_accuracy: 0.5111\n",
      "Epoch 3/50\n",
      "7/7 [==============================] - 0s 11ms/step - loss: 1.3312 - accuracy: 0.6161 - val_loss: 1.3300 - val_accuracy: 0.5778\n",
      "Epoch 4/50\n",
      "7/7 [==============================] - 0s 10ms/step - loss: 1.3546 - accuracy: 0.4597 - val_loss: 1.3112 - val_accuracy: 0.5778\n",
      "Epoch 5/50\n",
      "7/7 [==============================] - 0s 13ms/step - loss: 1.3019 - accuracy: 0.5687 - val_loss: 1.2925 - val_accuracy: 0.6444\n",
      "Epoch 6/50\n",
      "7/7 [==============================] - 0s 12ms/step - loss: 1.2844 - accuracy: 0.5924 - val_loss: 1.2738 - val_accuracy: 0.6889\n",
      "Epoch 7/50\n",
      "7/7 [==============================] - 0s 11ms/step - loss: 1.2816 - accuracy: 0.5308 - val_loss: 1.2555 - val_accuracy: 0.7111\n",
      "Epoch 8/50\n",
      "7/7 [==============================] - 0s 11ms/step - loss: 1.2355 - accuracy: 0.6114 - val_loss: 1.2375 - val_accuracy: 0.7778\n",
      "Epoch 9/50\n",
      "7/7 [==============================] - 0s 11ms/step - loss: 1.2310 - accuracy: 0.5640 - val_loss: 1.2193 - val_accuracy: 0.7778\n",
      "Epoch 10/50\n",
      "7/7 [==============================] - 0s 10ms/step - loss: 1.2022 - accuracy: 0.5687 - val_loss: 1.2015 - val_accuracy: 0.8222\n",
      "Epoch 11/50\n",
      "7/7 [==============================] - 0s 14ms/step - loss: 1.2011 - accuracy: 0.5450 - val_loss: 1.1846 - val_accuracy: 0.8222\n",
      "Epoch 12/50\n",
      "7/7 [==============================] - 0s 16ms/step - loss: 1.1929 - accuracy: 0.5308 - val_loss: 1.1674 - val_accuracy: 0.8222\n",
      "Epoch 13/50\n",
      "7/7 [==============================] - 0s 13ms/step - loss: 1.1627 - accuracy: 0.5877 - val_loss: 1.1500 - val_accuracy: 0.8222\n",
      "Epoch 14/50\n",
      "7/7 [==============================] - 0s 13ms/step - loss: 1.1589 - accuracy: 0.5782 - val_loss: 1.1328 - val_accuracy: 0.8222\n",
      "Epoch 15/50\n",
      "7/7 [==============================] - 0s 11ms/step - loss: 1.1238 - accuracy: 0.6445 - val_loss: 1.1159 - val_accuracy: 0.8222\n",
      "Epoch 16/50\n",
      "7/7 [==============================] - 0s 9ms/step - loss: 1.1186 - accuracy: 0.6398 - val_loss: 1.0991 - val_accuracy: 0.8222\n",
      "Epoch 17/50\n",
      "7/7 [==============================] - 0s 10ms/step - loss: 1.0965 - accuracy: 0.6303 - val_loss: 1.0833 - val_accuracy: 0.8222\n",
      "Epoch 18/50\n",
      "7/7 [==============================] - 0s 9ms/step - loss: 1.0836 - accuracy: 0.6209 - val_loss: 1.0674 - val_accuracy: 0.8222\n",
      "Epoch 19/50\n",
      "7/7 [==============================] - 0s 11ms/step - loss: 1.0736 - accuracy: 0.6066 - val_loss: 1.0512 - val_accuracy: 0.8444\n",
      "Epoch 20/50\n",
      "7/7 [==============================] - 0s 14ms/step - loss: 1.0504 - accuracy: 0.6445 - val_loss: 1.0351 - val_accuracy: 0.8222\n",
      "Epoch 21/50\n",
      "7/7 [==============================] - 0s 14ms/step - loss: 1.0426 - accuracy: 0.6066 - val_loss: 1.0198 - val_accuracy: 0.8222\n",
      "Epoch 22/50\n",
      "7/7 [==============================] - 0s 11ms/step - loss: 1.0322 - accuracy: 0.6398 - val_loss: 1.0047 - val_accuracy: 0.8000\n",
      "Epoch 23/50\n",
      "7/7 [==============================] - 0s 13ms/step - loss: 1.0122 - accuracy: 0.6682 - val_loss: 0.9893 - val_accuracy: 0.8000\n",
      "Epoch 24/50\n",
      "7/7 [==============================] - 0s 10ms/step - loss: 0.9912 - accuracy: 0.7014 - val_loss: 0.9740 - val_accuracy: 0.8000\n",
      "Epoch 25/50\n",
      "7/7 [==============================] - 0s 10ms/step - loss: 0.9885 - accuracy: 0.6872 - val_loss: 0.9597 - val_accuracy: 0.8000\n",
      "Epoch 26/50\n",
      "7/7 [==============================] - 0s 11ms/step - loss: 0.9516 - accuracy: 0.7251 - val_loss: 0.9454 - val_accuracy: 0.8000\n",
      "Epoch 27/50\n",
      "7/7 [==============================] - 0s 10ms/step - loss: 0.9469 - accuracy: 0.7156 - val_loss: 0.9314 - val_accuracy: 0.8000\n",
      "Epoch 28/50\n",
      "7/7 [==============================] - 0s 11ms/step - loss: 0.9320 - accuracy: 0.7204 - val_loss: 0.9171 - val_accuracy: 0.8222\n",
      "Epoch 29/50\n",
      "7/7 [==============================] - 0s 16ms/step - loss: 0.9490 - accuracy: 0.6682 - val_loss: 0.9026 - val_accuracy: 0.8222\n",
      "Epoch 30/50\n",
      "7/7 [==============================] - 0s 15ms/step - loss: 0.9041 - accuracy: 0.6967 - val_loss: 0.8898 - val_accuracy: 0.8222\n",
      "Epoch 31/50\n",
      "7/7 [==============================] - 0s 14ms/step - loss: 0.9072 - accuracy: 0.7014 - val_loss: 0.8767 - val_accuracy: 0.8222\n",
      "Epoch 32/50\n",
      "7/7 [==============================] - 0s 13ms/step - loss: 0.8579 - accuracy: 0.7820 - val_loss: 0.8650 - val_accuracy: 0.8222\n",
      "Epoch 33/50\n",
      "7/7 [==============================] - 0s 12ms/step - loss: 0.8828 - accuracy: 0.7393 - val_loss: 0.8543 - val_accuracy: 0.8444\n",
      "Epoch 34/50\n",
      "7/7 [==============================] - 0s 11ms/step - loss: 0.8568 - accuracy: 0.7014 - val_loss: 0.8429 - val_accuracy: 0.8444\n",
      "Epoch 35/50\n",
      "7/7 [==============================] - 0s 12ms/step - loss: 0.8174 - accuracy: 0.7962 - val_loss: 0.8327 - val_accuracy: 0.8222\n",
      "Epoch 36/50\n",
      "7/7 [==============================] - 0s 10ms/step - loss: 0.8382 - accuracy: 0.7441 - val_loss: 0.8224 - val_accuracy: 0.8222\n",
      "Epoch 37/50\n",
      "7/7 [==============================] - 0s 15ms/step - loss: 0.8439 - accuracy: 0.7441 - val_loss: 0.8104 - val_accuracy: 0.8222\n",
      "Epoch 38/50\n",
      "7/7 [==============================] - 0s 14ms/step - loss: 0.7938 - accuracy: 0.7678 - val_loss: 0.7992 - val_accuracy: 0.8222\n",
      "Epoch 39/50\n",
      "7/7 [==============================] - 0s 14ms/step - loss: 0.8025 - accuracy: 0.7820 - val_loss: 0.7885 - val_accuracy: 0.8222\n",
      "Epoch 40/50\n",
      "7/7 [==============================] - 0s 15ms/step - loss: 0.7827 - accuracy: 0.7773 - val_loss: 0.7777 - val_accuracy: 0.8444\n",
      "Epoch 41/50\n",
      "7/7 [==============================] - 0s 13ms/step - loss: 0.7745 - accuracy: 0.7773 - val_loss: 0.7691 - val_accuracy: 0.8444\n",
      "Epoch 42/50\n",
      "7/7 [==============================] - 0s 9ms/step - loss: 0.7722 - accuracy: 0.7962 - val_loss: 0.7614 - val_accuracy: 0.8222\n",
      "Epoch 43/50\n",
      "7/7 [==============================] - 0s 8ms/step - loss: 0.7800 - accuracy: 0.7725 - val_loss: 0.7545 - val_accuracy: 0.8222\n",
      "Epoch 44/50\n",
      "7/7 [==============================] - 0s 8ms/step - loss: 0.7319 - accuracy: 0.7962 - val_loss: 0.7450 - val_accuracy: 0.8444\n",
      "Epoch 45/50\n",
      "7/7 [==============================] - 0s 9ms/step - loss: 0.7594 - accuracy: 0.8009 - val_loss: 0.7344 - val_accuracy: 0.8222\n",
      "Epoch 46/50\n",
      "7/7 [==============================] - 0s 8ms/step - loss: 0.7093 - accuracy: 0.8294 - val_loss: 0.7244 - val_accuracy: 0.8222\n",
      "Epoch 47/50\n",
      "7/7 [==============================] - 0s 10ms/step - loss: 0.7210 - accuracy: 0.7915 - val_loss: 0.7161 - val_accuracy: 0.8222\n",
      "Epoch 48/50\n",
      "7/7 [==============================] - 0s 16ms/step - loss: 0.7141 - accuracy: 0.8199 - val_loss: 0.7070 - val_accuracy: 0.8222\n",
      "Epoch 49/50\n",
      "7/7 [==============================] - 0s 13ms/step - loss: 0.7016 - accuracy: 0.8246 - val_loss: 0.6975 - val_accuracy: 0.8222\n",
      "Epoch 50/50\n",
      "7/7 [==============================] - 0s 12ms/step - loss: 0.6705 - accuracy: 0.8341 - val_loss: 0.6898 - val_accuracy: 0.8222\n"
     ]
    }
   ],
   "source": [
    "model_3.compile(optimizer='adam',\n",
    "              loss='binary_crossentropy',\n",
    "              metrics=['accuracy'])\n",
    "hist_3 = model_3.fit(X_train, Y_train,\n",
    "          batch_size=32, epochs=50,\n",
    "          validation_data=(X_val, Y_val))"
   ]
  },
  {
   "cell_type": "code",
   "execution_count": 56,
   "metadata": {},
   "outputs": [
    {
     "name": "stdout",
     "output_type": "stream",
     "text": [
      "2/2 [==============================] - 0s 6ms/step - loss: 0.5698 - accuracy: 0.6957\n"
     ]
    },
    {
     "data": {
      "text/plain": [
       "[0.5697587728500366, 0.695652186870575]"
      ]
     },
     "execution_count": 56,
     "metadata": {},
     "output_type": "execute_result"
    }
   ],
   "source": [
    "model.evaluate(X_test, Y_test)\n"
   ]
  },
  {
   "cell_type": "markdown",
   "metadata": {},
   "source": [
    "Compareing to the result obtained from fitting a logistic regression model."
   ]
  },
  {
   "cell_type": "code",
   "execution_count": 57,
   "metadata": {},
   "outputs": [
    {
     "name": "stdout",
     "output_type": "stream",
     "text": [
      "Logistic Regression model accuracy: 0.34782608695652173\n"
     ]
    }
   ],
   "source": [
    "from sklearn.metrics import accuracy_score\n",
    "\n",
    "yhat_logistic = log_model.predict(X_test)\n",
    "accuracy_logistic = accuracy_score(yhat_logistic, y_test[:len(yhat_logistic)])\n",
    "print(f\"Logistic Regression model accuracy: {accuracy_logistic}\")\n"
   ]
  }
 ],
 "metadata": {
  "kernelspec": {
   "display_name": "Python 3",
   "language": "python",
   "name": "python3"
  },
  "language_info": {
   "codemirror_mode": {
    "name": "ipython",
    "version": 3
   },
   "file_extension": ".py",
   "mimetype": "text/x-python",
   "name": "python",
   "nbconvert_exporter": "python",
   "pygments_lexer": "ipython3",
   "version": "3.10.4"
  }
 },
 "nbformat": 4,
 "nbformat_minor": 2
}
